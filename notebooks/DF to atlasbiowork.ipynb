{
 "cells": [
  {
   "cell_type": "markdown",
   "metadata": {},
   "source": [
    "# Create dataframe to load data into atlasbiowork\n"
   ]
  },
  {
   "cell_type": "code",
   "execution_count": 1,
   "metadata": {},
   "outputs": [],
   "source": [
    "import pandas as pd, numpy as np, json"
   ]
  },
  {
   "cell_type": "code",
   "execution_count": 2,
   "metadata": {},
   "outputs": [],
   "source": [
    "#fields for csv\n",
    "site_fields = ['id', 'name', 'geometry', 'accuracy']\n",
    "observation_fields = ['values','observer_id', 'site_id', 'type_id', 'parentobs_id']\n",
    "samples_fields = ['top_cm', 'bottom_cm', 'description','num_composited','sampleID','date','samplers']\n",
    "analysis_fields = ['sampleID','analysis', 'lab', 'date_analyzed', 'unit1', 'value1', 'unit2',\n",
    "       'value2', 'unit3', 'value3', 'analysisNote']"
   ]
  },
  {
   "cell_type": "markdown",
   "metadata": {},
   "source": [
    "To load new data such as soil analyses, first get a dataframe from atlasbiowork with the correct sample data, so we can connect with the right parentobs_id according to the sample ID and date. We will expand the JSON field, called *values*, into separate columns for manipulation."
   ]
  },
  {
   "cell_type": "code",
   "execution_count": 11,
   "metadata": {},
   "outputs": [],
   "source": [
    "#these are the samples to which we need to attach analyses\n",
    "s = pd.read_csv('CalifSpring.csv')\n",
    "#these are the analyses we got from Oregon State\n",
    "a = pd.read_excel('CaliforniaSpring2019Analyses.xls')"
   ]
  },
  {
   "cell_type": "markdown",
   "metadata": {},
   "source": [
    "1. Then break out the JSON field into columns"
   ]
  },
  {
   "cell_type": "code",
   "execution_count": 50,
   "metadata": {},
   "outputs": [
    {
     "data": {
      "text/plain": [
       "{0: \"{'date': '2019-04-02', 'samplers': None, 'description': 'saturated clay below 35 cm', 'num_composited': '8', 'bottom_cm': '40', 'top_cm': '25', 'sampleID': 'SONI2C'}\",\n",
       " 1: \"{'date': '2019-04-02', 'samplers': None, 'description': 'clay loam', 'num_composited': '8', 'bottom_cm': '25', 'top_cm': '10', 'sampleID': 'SONI2B'}\",\n",
       " 2: \"{'date': '2019-04-02', 'samplers': None, 'description': 'some worms, clay loam', 'num_composited': '8', 'bottom_cm': '10', 'top_cm': '0', 'sampleID': 'SONI2A'}\",\n",
       " 3: \"{'date': '2019-04-02', 'samplers': None, 'description': 'grey loam, a few orange mottles', 'num_composited': '8', 'bottom_cm': '40', 'top_cm': '25', 'sampleID': 'SONI1C'}\",\n",
       " 4: \"{'date': '2019-04-02', 'samplers': None, 'description': 'light grey loam', 'num_composited': '8', 'bottom_cm': '25', 'top_cm': '10', 'sampleID': 'SONI1B'}\",\n",
       " 5: \"{'date': '2019-04-02', 'samplers': None, 'description': 'well aggregated light grey loam, worms abundant', 'num_composited': '8', 'bottom_cm': '10', 'top_cm': '0', 'sampleID': 'SONI1A'}\",\n",
       " 6: \"{'date': '2019-04-06', 'samplers': None, 'description': '1 worm seen; possible small charcoal fragment or two', 'num_composited': '8', 'bottom_cm': '10', 'top_cm': '0', 'sampleID': 'MIRA3A'}\",\n",
       " 7: \"{'date': '2019-04-06', 'samplers': None, 'description': 'chocolatey dark loam, 1 worm seen', 'num_composited': '8', 'bottom_cm': '25', 'top_cm': '10', 'sampleID': 'MIRA3B'}\",\n",
       " 8: \"{'date': '2019-04-06', 'samplers': None, 'description': 'chocolatey dark loam, possible small charcoal fragments', 'num_composited': '8', 'bottom_cm': '40', 'top_cm': '25', 'sampleID': 'MIRA3C'}\",\n",
       " 9: \"{'date': '2019-04-06', 'samplers': None, 'description': 'dark loam', 'num_composited': '8', 'bottom_cm': '40', 'top_cm': '25', 'sampleID': 'MIRA2C'}\",\n",
       " 10: \"{'date': '2019-04-06', 'samplers': None, 'description': 'dark loam', 'num_composited': '8', 'bottom_cm': '25', 'top_cm': '10', 'sampleID': 'MIRA2B'}\",\n",
       " 11: \"{'date': '2019-04-06', 'samplers': None, 'description': 'dark loam', 'num_composited': '8', 'bottom_cm': '10', 'top_cm': '0', 'sampleID': 'MIRA2A'}\",\n",
       " 12: \"{'date': '2019-04-06', 'samplers': None, 'description': 'dark loam', 'num_composited': '8', 'bottom_cm': '40', 'top_cm': '25', 'sampleID': 'MIRA1C'}\",\n",
       " 13: \"{'date': '2019-04-06', 'samplers': None, 'description': 'dark loam', 'num_composited': '8', 'bottom_cm': '25', 'top_cm': '10', 'sampleID': 'MIRA1B'}\",\n",
       " 14: \"{'date': '2019-04-06', 'samplers': None, 'description': 'chocolate loam, some worms', 'num_composited': '8', 'bottom_cm': '10', 'top_cm': '0', 'sampleID': 'MIRA1A'}\",\n",
       " 15: \"{'date': '2019-04-14', 'samplers': 'Greg Richardson', 'description': 'sandy loam', 'num_composited': '8', 'bottom_cm': '40', 'top_cm': '25', 'sampleID': 'FOST2C'}\",\n",
       " 16: \"{'date': '2019-04-14', 'samplers': 'Greg Richardson', 'description': 'sandy loam', 'num_composited': '8', 'bottom_cm': '25', 'top_cm': '10', 'sampleID': 'FOST2B'}\",\n",
       " 17: \"{'date': '2019-04-14', 'samplers': 'Greg Richardson', 'description': 'sandy loam, a few worms.', 'num_composited': '8', 'bottom_cm': '10', 'top_cm': '0', 'sampleID': 'FOST2A'}\",\n",
       " 18: \"{'date': '2019-04-14', 'samplers': 'Greg Richardson', 'description': 'black clay loam', 'num_composited': '8', 'bottom_cm': '40', 'top_cm': '25', 'sampleID': 'FOST1C'}\",\n",
       " 19: \"{'date': '2019-04-14', 'samplers': 'Greg Richardson', 'description': 'black clay loam, roots not very abundant', 'num_composited': '8', 'bottom_cm': '25', 'top_cm': '10', 'sampleID': 'FOST1B'}\",\n",
       " 20: \"{'date': '2019-04-14', 'samplers': 'Greg Richardson', 'description': 'black clay loam, some worms', 'num_composited': '8', 'bottom_cm': '10', 'top_cm': '0', 'sampleID': 'FOST1A'}\",\n",
       " 21: \"{'date': '2019-02-20', 'samplers': None, 'description': None, 'num_composited': 1, 'bottom_cm': 35, 'top_cm': 27, 'sampleID': 'RepeaterC1'}\",\n",
       " 22: \"{'date': '2019-02-20', 'samplers': None, 'description': None, 'num_composited': 1, 'bottom_cm': 35, 'top_cm': 27, 'sampleID': 'EastendC1'}\",\n",
       " 23: \"{'date': '2019-02-20', 'samplers': None, 'description': None, 'num_composited': 1, 'bottom_cm': 22, 'top_cm': 12, 'sampleID': 'EastendB1'}\",\n",
       " 24: \"{'date': '2019-02-20', 'samplers': None, 'description': None, 'num_composited': 1, 'bottom_cm': 9, 'top_cm': 2, 'sampleID': 'EastendA1'}\",\n",
       " 25: \"{'date': '2019-02-20', 'samplers': None, 'description': None, 'num_composited': 8, 'bottom_cm': 40, 'top_cm': 25, 'sampleID': 'EastendC'}\",\n",
       " 26: \"{'date': '2019-02-20', 'samplers': None, 'description': None, 'num_composited': 8, 'bottom_cm': 25, 'top_cm': 10, 'sampleID': 'EastendB'}\",\n",
       " 27: \"{'date': '2019-02-20', 'samplers': None, 'description': None, 'num_composited': 8, 'bottom_cm': 10, 'top_cm': 0, 'sampleID': 'EastendA'}\",\n",
       " 28: \"{'date': '2019-02-20', 'samplers': None, 'description': None, 'num_composited': 1, 'bottom_cm': 22, 'top_cm': 12, 'sampleID': 'RepeaterB1'}\",\n",
       " 29: \"{'date': '2019-02-20', 'samplers': None, 'description': None, 'num_composited': 1, 'bottom_cm': 9, 'top_cm': 2, 'sampleID': 'RepeaterA1'}\",\n",
       " 30: \"{'date': '2019-02-20', 'samplers': None, 'description': None, 'num_composited': 8, 'bottom_cm': 40, 'top_cm': 25, 'sampleID': 'RepeaterC'}\",\n",
       " 31: \"{'date': '2019-02-20', 'samplers': None, 'description': None, 'num_composited': 8, 'bottom_cm': 25, 'top_cm': 10, 'sampleID': 'RepeaterB'}\",\n",
       " 32: \"{'date': '2019-02-20', 'samplers': None, 'description': None, 'num_composited': 8, 'bottom_cm': 10, 'top_cm': 0, 'sampleID': 'RepeaterA'}\",\n",
       " 33: \"{'date': '2019-02-19', 'samplers': None, 'description': None, 'num_composited': 1, 'bottom_cm': 35, 'top_cm': 27, 'sampleID': 'TabletopC1'}\",\n",
       " 34: \"{'date': '2019-02-19', 'samplers': None, 'description': None, 'num_composited': 1, 'bottom_cm': 22, 'top_cm': 12, 'sampleID': 'TabletopB1'}\",\n",
       " 35: \"{'date': '2019-02-19', 'samplers': None, 'description': None, 'num_composited': 1, 'bottom_cm': 9, 'top_cm': 2, 'sampleID': 'TabletopA1'}\",\n",
       " 36: \"{'date': '2019-02-19', 'samplers': None, 'description': None, 'num_composited': 8, 'bottom_cm': 40, 'top_cm': 25, 'sampleID': 'TabletopC'}\",\n",
       " 37: \"{'date': '2019-02-19', 'samplers': None, 'description': None, 'num_composited': 8, 'bottom_cm': 25, 'top_cm': 10, 'sampleID': 'TabletopB'}\",\n",
       " 38: \"{'date': '2019-02-19', 'samplers': None, 'description': None, 'num_composited': 8, 'bottom_cm': 10, 'top_cm': 0, 'sampleID': 'TabletopA'}\",\n",
       " 39: \"{'date': '2019-02-19', 'samplers': 'John Wade', 'description': None, 'num_composited': 1, 'bottom_cm': 35, 'top_cm': 27, 'sampleID': 'DrypondC1'}\",\n",
       " 40: \"{'date': '2019-02-19', 'samplers': 'John Wade', 'description': None, 'num_composited': 1, 'bottom_cm': 22, 'top_cm': 12, 'sampleID': 'DrypondB1'}\",\n",
       " 41: \"{'date': '2019-02-19', 'samplers': 'John Wade', 'description': None, 'num_composited': 1, 'bottom_cm': 9, 'top_cm': 2, 'sampleID': 'DrypondA1'}\",\n",
       " 42: \"{'date': '2019-02-19', 'samplers': 'John Wade', 'description': None, 'num_composited': 8, 'bottom_cm': 40, 'top_cm': 25, 'sampleID': 'DrypondC'}\",\n",
       " 43: \"{'date': '2019-02-19', 'samplers': 'John Wade', 'description': None, 'num_composited': 8, 'bottom_cm': 25, 'top_cm': 10, 'sampleID': 'DrypondB'}\",\n",
       " 44: \"{'date': '2019-02-19', 'samplers': 'John Wade', 'description': None, 'num_composited': 8, 'bottom_cm': 10, 'top_cm': 0, 'sampleID': 'DrypondA'}\"}"
      ]
     },
     "execution_count": 50,
     "metadata": {},
     "output_type": "execute_result"
    }
   ],
   "source": [
    "s['values'].to_dict()\n"
   ]
  },
  {
   "cell_type": "code",
   "execution_count": 10,
   "metadata": {},
   "outputs": [
    {
     "data": {
      "text/plain": [
       "Index(['entered', 'id', 'observer_id', 'parentobs_id', 'site_id', 'type_id',\n",
       "       0],\n",
       "      dtype='object')"
      ]
     },
     "execution_count": 10,
     "metadata": {},
     "output_type": "execute_result"
    }
   ],
   "source": [
    "#this is a slick way to break out the json field (named values) into columns and add to df\n",
    "d = pd.concat([s.drop('values', axis=1), pd.DataFrame(s['values'].tolist())], axis=1)\n",
    "#d = d[['id','site_id','type_id','parentobs_id','entered','observer',\n",
    "       #'label1','value1','label2','value2','label3','value3','start_date','end_date','description',\n",
    "       #'photo1','photo2']]\n",
    "d.columns"
   ]
  },
  {
   "cell_type": "code",
   "execution_count": null,
   "metadata": {},
   "outputs": [],
   "source": [
    "d = d.sort_values(['sampleID','date_analyzed'])\n",
    "d = d[['entered', 'analysis', 'analysisNote', 'date_analyzed', 'lab', 'sampleID', 'unit1','value1',\n",
    "       'unit2','value2', 'unit3', 'value3']]\n",
    "d = d.replace(np.nan,'',regex=True)\n",
    "d.to_csv(plotID + '.csv',index=False)"
   ]
  },
  {
   "cell_type": "markdown",
   "metadata": {},
   "source": [
    "2. Then get everything in the right places and formats"
   ]
  },
  {
   "cell_type": "markdown",
   "metadata": {},
   "source": [
    "3. Then put the JSON field back together and load into db"
   ]
  },
  {
   "cell_type": "code",
   "execution_count": 9,
   "metadata": {},
   "outputs": [
    {
     "ename": "KeyError",
     "evalue": "\"['sampleID' 'analysis' 'lab' 'date_analyzed' 'unit1' 'value1' 'unit2'\\n 'value2' 'unit3' 'value3' 'analysisNote'] not in index\"",
     "output_type": "error",
     "traceback": [
      "\u001b[1;31m---------------------------------------------------------------------------\u001b[0m",
      "\u001b[1;31mKeyError\u001b[0m                                  Traceback (most recent call last)",
      "\u001b[1;32m<ipython-input-9-12c1919d3671>\u001b[0m in \u001b[0;36m<module>\u001b[1;34m\u001b[0m\n\u001b[0;32m      1\u001b[0m \u001b[0mmy_values\u001b[0m \u001b[1;33m=\u001b[0m \u001b[0manalysisfields\u001b[0m\u001b[1;33m\u001b[0m\u001b[1;33m\u001b[0m\u001b[0m\n\u001b[1;32m----> 2\u001b[1;33m \u001b[0ms\u001b[0m \u001b[1;33m=\u001b[0m \u001b[0mdf\u001b[0m\u001b[1;33m[\u001b[0m\u001b[0mmy_values\u001b[0m\u001b[1;33m]\u001b[0m\u001b[1;33m.\u001b[0m\u001b[0mto_json\u001b[0m\u001b[1;33m(\u001b[0m\u001b[0morient\u001b[0m\u001b[1;33m=\u001b[0m\u001b[1;34m'records'\u001b[0m\u001b[1;33m)\u001b[0m\u001b[1;33m\u001b[0m\u001b[1;33m\u001b[0m\u001b[0m\n\u001b[0m\u001b[0;32m      3\u001b[0m \u001b[0mt\u001b[0m \u001b[1;33m=\u001b[0m \u001b[0mpd\u001b[0m\u001b[1;33m.\u001b[0m\u001b[0mSeries\u001b[0m\u001b[1;33m(\u001b[0m\u001b[0mjson\u001b[0m\u001b[1;33m.\u001b[0m\u001b[0mloads\u001b[0m\u001b[1;33m(\u001b[0m\u001b[0ms\u001b[0m\u001b[1;33m)\u001b[0m\u001b[1;33m)\u001b[0m\u001b[1;33m\u001b[0m\u001b[1;33m\u001b[0m\u001b[0m\n\u001b[0;32m      4\u001b[0m \u001b[0mv\u001b[0m \u001b[1;33m=\u001b[0m \u001b[0mpd\u001b[0m\u001b[1;33m.\u001b[0m\u001b[0mDataFrame\u001b[0m\u001b[1;33m(\u001b[0m\u001b[0mt\u001b[0m\u001b[1;33m,\u001b[0m \u001b[0mcolumns\u001b[0m\u001b[1;33m=\u001b[0m\u001b[1;33m[\u001b[0m\u001b[1;34m'values'\u001b[0m\u001b[1;33m]\u001b[0m\u001b[1;33m)\u001b[0m\u001b[1;33m\u001b[0m\u001b[1;33m\u001b[0m\u001b[0m\n\u001b[0;32m      5\u001b[0m \u001b[0mv\u001b[0m\u001b[1;33m\u001b[0m\u001b[1;33m\u001b[0m\u001b[0m\n",
      "\u001b[1;32m~\\Anaconda3\\lib\\site-packages\\pandas\\core\\frame.py\u001b[0m in \u001b[0;36m__getitem__\u001b[1;34m(self, key)\u001b[0m\n\u001b[0;32m   2680\u001b[0m         \u001b[1;32mif\u001b[0m \u001b[0misinstance\u001b[0m\u001b[1;33m(\u001b[0m\u001b[0mkey\u001b[0m\u001b[1;33m,\u001b[0m \u001b[1;33m(\u001b[0m\u001b[0mSeries\u001b[0m\u001b[1;33m,\u001b[0m \u001b[0mnp\u001b[0m\u001b[1;33m.\u001b[0m\u001b[0mndarray\u001b[0m\u001b[1;33m,\u001b[0m \u001b[0mIndex\u001b[0m\u001b[1;33m,\u001b[0m \u001b[0mlist\u001b[0m\u001b[1;33m)\u001b[0m\u001b[1;33m)\u001b[0m\u001b[1;33m:\u001b[0m\u001b[1;33m\u001b[0m\u001b[1;33m\u001b[0m\u001b[0m\n\u001b[0;32m   2681\u001b[0m             \u001b[1;31m# either boolean or fancy integer index\u001b[0m\u001b[1;33m\u001b[0m\u001b[1;33m\u001b[0m\u001b[1;33m\u001b[0m\u001b[0m\n\u001b[1;32m-> 2682\u001b[1;33m             \u001b[1;32mreturn\u001b[0m \u001b[0mself\u001b[0m\u001b[1;33m.\u001b[0m\u001b[0m_getitem_array\u001b[0m\u001b[1;33m(\u001b[0m\u001b[0mkey\u001b[0m\u001b[1;33m)\u001b[0m\u001b[1;33m\u001b[0m\u001b[1;33m\u001b[0m\u001b[0m\n\u001b[0m\u001b[0;32m   2683\u001b[0m         \u001b[1;32melif\u001b[0m \u001b[0misinstance\u001b[0m\u001b[1;33m(\u001b[0m\u001b[0mkey\u001b[0m\u001b[1;33m,\u001b[0m \u001b[0mDataFrame\u001b[0m\u001b[1;33m)\u001b[0m\u001b[1;33m:\u001b[0m\u001b[1;33m\u001b[0m\u001b[1;33m\u001b[0m\u001b[0m\n\u001b[0;32m   2684\u001b[0m             \u001b[1;32mreturn\u001b[0m \u001b[0mself\u001b[0m\u001b[1;33m.\u001b[0m\u001b[0m_getitem_frame\u001b[0m\u001b[1;33m(\u001b[0m\u001b[0mkey\u001b[0m\u001b[1;33m)\u001b[0m\u001b[1;33m\u001b[0m\u001b[1;33m\u001b[0m\u001b[0m\n",
      "\u001b[1;32m~\\Anaconda3\\lib\\site-packages\\pandas\\core\\frame.py\u001b[0m in \u001b[0;36m_getitem_array\u001b[1;34m(self, key)\u001b[0m\n\u001b[0;32m   2724\u001b[0m             \u001b[1;32mreturn\u001b[0m \u001b[0mself\u001b[0m\u001b[1;33m.\u001b[0m\u001b[0m_take\u001b[0m\u001b[1;33m(\u001b[0m\u001b[0mindexer\u001b[0m\u001b[1;33m,\u001b[0m \u001b[0maxis\u001b[0m\u001b[1;33m=\u001b[0m\u001b[1;36m0\u001b[0m\u001b[1;33m)\u001b[0m\u001b[1;33m\u001b[0m\u001b[1;33m\u001b[0m\u001b[0m\n\u001b[0;32m   2725\u001b[0m         \u001b[1;32melse\u001b[0m\u001b[1;33m:\u001b[0m\u001b[1;33m\u001b[0m\u001b[1;33m\u001b[0m\u001b[0m\n\u001b[1;32m-> 2726\u001b[1;33m             \u001b[0mindexer\u001b[0m \u001b[1;33m=\u001b[0m \u001b[0mself\u001b[0m\u001b[1;33m.\u001b[0m\u001b[0mloc\u001b[0m\u001b[1;33m.\u001b[0m\u001b[0m_convert_to_indexer\u001b[0m\u001b[1;33m(\u001b[0m\u001b[0mkey\u001b[0m\u001b[1;33m,\u001b[0m \u001b[0maxis\u001b[0m\u001b[1;33m=\u001b[0m\u001b[1;36m1\u001b[0m\u001b[1;33m)\u001b[0m\u001b[1;33m\u001b[0m\u001b[1;33m\u001b[0m\u001b[0m\n\u001b[0m\u001b[0;32m   2727\u001b[0m             \u001b[1;32mreturn\u001b[0m \u001b[0mself\u001b[0m\u001b[1;33m.\u001b[0m\u001b[0m_take\u001b[0m\u001b[1;33m(\u001b[0m\u001b[0mindexer\u001b[0m\u001b[1;33m,\u001b[0m \u001b[0maxis\u001b[0m\u001b[1;33m=\u001b[0m\u001b[1;36m1\u001b[0m\u001b[1;33m)\u001b[0m\u001b[1;33m\u001b[0m\u001b[1;33m\u001b[0m\u001b[0m\n\u001b[0;32m   2728\u001b[0m \u001b[1;33m\u001b[0m\u001b[0m\n",
      "\u001b[1;32m~\\Anaconda3\\lib\\site-packages\\pandas\\core\\indexing.py\u001b[0m in \u001b[0;36m_convert_to_indexer\u001b[1;34m(self, obj, axis, is_setter)\u001b[0m\n\u001b[0;32m   1325\u001b[0m                 \u001b[1;32mif\u001b[0m \u001b[0mmask\u001b[0m\u001b[1;33m.\u001b[0m\u001b[0many\u001b[0m\u001b[1;33m(\u001b[0m\u001b[1;33m)\u001b[0m\u001b[1;33m:\u001b[0m\u001b[1;33m\u001b[0m\u001b[1;33m\u001b[0m\u001b[0m\n\u001b[0;32m   1326\u001b[0m                     raise KeyError('{mask} not in index'\n\u001b[1;32m-> 1327\u001b[1;33m                                    .format(mask=objarr[mask]))\n\u001b[0m\u001b[0;32m   1328\u001b[0m \u001b[1;33m\u001b[0m\u001b[0m\n\u001b[0;32m   1329\u001b[0m                 \u001b[1;32mreturn\u001b[0m \u001b[0mcom\u001b[0m\u001b[1;33m.\u001b[0m\u001b[0m_values_from_object\u001b[0m\u001b[1;33m(\u001b[0m\u001b[0mindexer\u001b[0m\u001b[1;33m)\u001b[0m\u001b[1;33m\u001b[0m\u001b[1;33m\u001b[0m\u001b[0m\n",
      "\u001b[1;31mKeyError\u001b[0m: \"['sampleID' 'analysis' 'lab' 'date_analyzed' 'unit1' 'value1' 'unit2'\\n 'value2' 'unit3' 'value3' 'analysisNote'] not in index\""
     ]
    }
   ],
   "source": [
    "my_values = analysisfields\n",
    "s = df[my_values].to_json(orient='records')\n",
    "t = pd.Series(json.loads(s))\n",
    "v = pd.DataFrame(t, columns=['values'])\n",
    "v\n",
    "#now we have a JSON values field that we can add to df"
   ]
  }
 ],
 "metadata": {
  "kernelspec": {
   "display_name": "Python 3",
   "language": "python",
   "name": "python3"
  },
  "language_info": {
   "codemirror_mode": {
    "name": "ipython",
    "version": 3
   },
   "file_extension": ".py",
   "mimetype": "text/x-python",
   "name": "python",
   "nbconvert_exporter": "python",
   "pygments_lexer": "ipython3",
   "version": "3.7.1"
  }
 },
 "nbformat": 4,
 "nbformat_minor": 2
}
