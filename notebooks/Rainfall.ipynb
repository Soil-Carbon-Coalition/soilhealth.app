{
 "cells": [
  {
   "cell_type": "markdown",
   "metadata": {},
   "source": [
    "## Rainfall and other ACIS data for counties, HUC8s, stations\n",
    "using ACIS stations which use a variety of station data including Cocorahs, Hydrimet, etc.\n",
    "\n",
    "station data can be filtered by HUC8, county, station number, or list of these\n",
    "\n",
    "https://water.usgs.gov/wsc/watershed_finder.html for finding HUC8 basin codes\n",
    "\n",
    "ACIS documentation, including parameter codes: http://www.rcc-acis.org/docs_webservices.html"
   ]
  },
  {
   "cell_type": "code",
   "execution_count": 8,
   "metadata": {},
   "outputs": [],
   "source": [
    "#basic imports\n",
    "from climata.usgs import DailyValueIO\n",
    "from climata.acis import StationDataIO\n",
    "import pandas as pd, numpy as np\n",
    "import folium  #folium on Jupyter doesn't display well in Microsoft Edge. Chrome works.\n",
    "import matplotlib.pyplot as plt\n",
    "plt.rcParams['figure.figsize'] = [10, 8] #gives compact size to plots\n",
    "%matplotlib inline\n",
    "\n",
    "#some functions\n",
    "def flashiness(series):\n",
    "    \"\"\"Richards-Baker Flashiness Index for a Pandas series of daily mean flows = the path length divided by the sum.\"\"\"\n",
    "    Qsum = np.sum(series)  # sum of daily flows\n",
    "    # the path length, or sum of differences between adjacent daily flows:\n",
    "    Qpath = np.sum(pd.Series(np.abs(series.shift(1)-series))) \n",
    "    return round(Qpath/Qsum,2)\n",
    "    \n",
    "\n",
    "\n",
    "def colorgrad(minimum, maximum, value):\n",
    "    \"\"\"returns a hex color for circle markers based on a value\"\"\"\n",
    "    minimum, maximum = float(minimum), float(maximum)\n",
    "    ratio = (value-minimum) / (maximum-minimum)\n",
    "    g = int(max(0, 128*(1 - ratio)))\n",
    "    r = int(max(0, 128*(1 - ratio) + 127))\n",
    "    b = 0\n",
    "    hexcolor = '#%02x%02x%02x' % (r,g,b)\n",
    "    return hexcolor"
   ]
  },
  {
   "cell_type": "code",
   "execution_count": 9,
   "metadata": {},
   "outputs": [
    {
     "data": {
      "text/plain": [
       "[StationDataIOTuple(name='PINNACLES NM', sids={'COOP': '046926', 'GHCN': 'USC00046926', 'NWSLI': 'PNMC1'}, county='06069', state='CA', elev=1307.0, climdiv='CA04', uid=2519, longitude=-121.1822, latitude=36.4819, data=<climata.acis.DataIO object at 0x00000276247DEC50>),\n",
       " StationDataIOTuple(name='HOLLISTER 2', sids={'COOP': '044025', 'GHCN': 'USC00044025', 'NWSLI': 'HOLC1'}, county='06069', state='CA', elev=275.0, climdiv='CA04', uid=2590, longitude=-121.4213, latitude=36.8483, data=<climata.acis.DataIO object at 0x00000276225C1F28>),\n",
       " StationDataIOTuple(name='HERNANDEZ CALIFORNIA', sids={'GHCN': 'USR0000CHER'}, county='06069', state='CA', elev=3733.0, climdiv='CA04', uid=66008, longitude=-120.8558, latitude=36.3825, data=<climata.acis.DataIO object at 0x0000027621D36278>),\n",
       " StationDataIOTuple(name='HOLLISTER CALIFORNIA', sids={'GHCN': 'USR0000CHLR'}, county='06069', state='CA', elev=404.0, climdiv='CA04', uid=66012, longitude=-121.3622, latitude=36.8422, data=<climata.acis.DataIO object at 0x0000027622B676D8>),\n",
       " StationDataIOTuple(name='PINNACLES CALIFORNIA', sids={'GHCN': 'USR0000CPNN'}, county='06069', state='CA', elev=1322.0, climdiv='CA04', uid=66126, longitude=-121.1472, latitude=36.4708, data=<climata.acis.DataIO object at 0x0000027622B677B8>),\n",
       " StationDataIOTuple(name='SANTA RITA CALIFORNIA', sids={'GHCN': 'USR0000CSNR'}, county='06069', state='CA', elev=5000.0, climdiv='CA05', uid=66179, longitude=-120.5978, latitude=36.3478, data=<climata.acis.DataIO object at 0x0000027622B67550>)]"
      ]
     },
     "execution_count": 9,
     "metadata": {},
     "output_type": "execute_result"
    }
   ],
   "source": [
    "stations = StationDataIO(\n",
    "#     basin=\"11080008\",\n",
    "    county= \"06069\", #San Benito\n",
    "    start_date=\"2012-10-01\", #calendar year or water year? select dates accordingly\n",
    "    end_date=\"2018-09-30\",\n",
    "    parameter=\"pcpn\" # precipitation in inches\n",
    "    # 'cdd' is cooling degree days above 65F, 'avgt' is average temp in F. See docs \n",
    ")\n",
    "list(stations)"
   ]
  },
  {
   "cell_type": "code",
   "execution_count": 11,
   "metadata": {},
   "outputs": [
    {
     "data": {
      "text/html": [
       "<div style=\"width:100%;\"><div style=\"position:relative;width:100%;height:0;padding-bottom:60%;\"><iframe src=\"data:text/html;charset=utf-8;base64,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\" style=\"position:absolute;width:100%;height:100%;left:0;top:0;border:none !important;\" allowfullscreen webkitallowfullscreen mozallowfullscreen></iframe></div></div>"
      ],
      "text/plain": [
       "<folium.folium.Map at 0x27622e2d5c0>"
      ]
     },
     "execution_count": 11,
     "metadata": {},
     "output_type": "execute_result"
    }
   ],
   "source": [
    "#dataframe of station info\n",
    "stationinfo = pd.DataFrame([[y for y in x] for x in stations],\n",
    "columns=['name','codes','county','st','elev','climdiv','uid','lon','lat','data'])\n",
    "#now map them\n",
    "m = folium.Map(location=[stationinfo['lat'].mean(), stationinfo['lon'].mean()], zoom_start=9, tiles=\"Stamen Terrain\")\n",
    "for i in range(0,len(stationinfo)):\n",
    "    tooltip = stationinfo.iloc[i]['name']\n",
    "    folium.Marker([stationinfo.iloc[i]['lat'], stationinfo.iloc[i]['lon']],tooltip=tooltip).add_to(m)\n",
    "m"
   ]
  },
  {
   "cell_type": "code",
   "execution_count": 12,
   "metadata": {
    "scrolled": true
   },
   "outputs": [
    {
     "data": {
      "text/html": [
       "<div>\n",
       "<style scoped>\n",
       "    .dataframe tbody tr th:only-of-type {\n",
       "        vertical-align: middle;\n",
       "    }\n",
       "\n",
       "    .dataframe tbody tr th {\n",
       "        vertical-align: top;\n",
       "    }\n",
       "\n",
       "    .dataframe thead th {\n",
       "        text-align: right;\n",
       "    }\n",
       "</style>\n",
       "<table border=\"1\" class=\"dataframe\">\n",
       "  <thead>\n",
       "    <tr style=\"text-align: right;\">\n",
       "      <th></th>\n",
       "      <th>PINNACLES NM</th>\n",
       "      <th>HOLLISTER 2</th>\n",
       "      <th>HERNANDEZ CALIFORNIA</th>\n",
       "      <th>HOLLISTER CALIFORNIA</th>\n",
       "      <th>PINNACLES CALIFORNIA</th>\n",
       "      <th>SANTA RITA CALIFORNIA</th>\n",
       "    </tr>\n",
       "  </thead>\n",
       "  <tbody>\n",
       "    <tr>\n",
       "      <th>count</th>\n",
       "      <td>2191.0</td>\n",
       "      <td>2191.0</td>\n",
       "      <td>2191.0</td>\n",
       "      <td>2191.0</td>\n",
       "      <td>2191.0</td>\n",
       "      <td>2191.0</td>\n",
       "    </tr>\n",
       "    <tr>\n",
       "      <th>unique</th>\n",
       "      <td>26.0</td>\n",
       "      <td>21.0</td>\n",
       "      <td>28.0</td>\n",
       "      <td>24.0</td>\n",
       "      <td>29.0</td>\n",
       "      <td>24.0</td>\n",
       "    </tr>\n",
       "    <tr>\n",
       "      <th>top</th>\n",
       "      <td>0.0</td>\n",
       "      <td>0.0</td>\n",
       "      <td>0.0</td>\n",
       "      <td>0.0</td>\n",
       "      <td>0.0</td>\n",
       "      <td>0.0</td>\n",
       "    </tr>\n",
       "    <tr>\n",
       "      <th>freq</th>\n",
       "      <td>1213.0</td>\n",
       "      <td>1583.0</td>\n",
       "      <td>1327.0</td>\n",
       "      <td>1549.0</td>\n",
       "      <td>1252.0</td>\n",
       "      <td>1394.0</td>\n",
       "    </tr>\n",
       "  </tbody>\n",
       "</table>\n",
       "</div>"
      ],
      "text/plain": [
       "        PINNACLES NM  HOLLISTER 2  HERNANDEZ CALIFORNIA  HOLLISTER CALIFORNIA  \\\n",
       "count         2191.0       2191.0                2191.0                2191.0   \n",
       "unique          26.0         21.0                  28.0                  24.0   \n",
       "top              0.0          0.0                   0.0                   0.0   \n",
       "freq          1213.0       1583.0                1327.0                1549.0   \n",
       "\n",
       "        PINNACLES CALIFORNIA  SANTA RITA CALIFORNIA  \n",
       "count                 2191.0                 2191.0  \n",
       "unique                  29.0                   24.0  \n",
       "top                      0.0                    0.0  \n",
       "freq                  1252.0                 1394.0  "
      ]
     },
     "execution_count": 12,
     "metadata": {},
     "output_type": "execute_result"
    }
   ],
   "source": [
    "#dataframe for rainfall measurements\n",
    "\n",
    "for i in range(0,len(stations)):\n",
    "    if i==0:\n",
    "        dates = [r[0] for r in stations[i].data]\n",
    "        pcpn = [r[1] for r in stations[i].data]\n",
    "        df = pd.DataFrame(data = pcpn, columns = [stations[i].name], index=dates)\n",
    "    else:\n",
    "        df[stations[i].name] = [r[1] for r in stations[i].data]\n",
    "#make sure it has a datetime index\n",
    "df.index = pd.to_datetime(df.index)\n",
    "df.describe()"
   ]
  },
  {
   "cell_type": "code",
   "execution_count": 16,
   "metadata": {},
   "outputs": [
    {
     "data": {
      "text/html": [
       "<div>\n",
       "<style scoped>\n",
       "    .dataframe tbody tr th:only-of-type {\n",
       "        vertical-align: middle;\n",
       "    }\n",
       "\n",
       "    .dataframe tbody tr th {\n",
       "        vertical-align: top;\n",
       "    }\n",
       "\n",
       "    .dataframe thead th {\n",
       "        text-align: right;\n",
       "    }\n",
       "</style>\n",
       "<table border=\"1\" class=\"dataframe\">\n",
       "  <thead>\n",
       "    <tr style=\"text-align: right;\">\n",
       "      <th></th>\n",
       "      <th>count</th>\n",
       "      <th>unique</th>\n",
       "      <th>top</th>\n",
       "      <th>freq</th>\n",
       "      <th>missing</th>\n",
       "    </tr>\n",
       "  </thead>\n",
       "  <tbody>\n",
       "    <tr>\n",
       "      <th>HOLLISTER CALIFORNIA</th>\n",
       "      <td>2191.0</td>\n",
       "      <td>24.0</td>\n",
       "      <td>0.0</td>\n",
       "      <td>1549.0</td>\n",
       "      <td>2</td>\n",
       "    </tr>\n",
       "    <tr>\n",
       "      <th>PINNACLES CALIFORNIA</th>\n",
       "      <td>2191.0</td>\n",
       "      <td>29.0</td>\n",
       "      <td>0.0</td>\n",
       "      <td>1252.0</td>\n",
       "      <td>2</td>\n",
       "    </tr>\n",
       "    <tr>\n",
       "      <th>HERNANDEZ CALIFORNIA</th>\n",
       "      <td>2191.0</td>\n",
       "      <td>28.0</td>\n",
       "      <td>0.0</td>\n",
       "      <td>1327.0</td>\n",
       "      <td>16</td>\n",
       "    </tr>\n",
       "    <tr>\n",
       "      <th>HOLLISTER 2</th>\n",
       "      <td>2191.0</td>\n",
       "      <td>21.0</td>\n",
       "      <td>0.0</td>\n",
       "      <td>1583.0</td>\n",
       "      <td>54</td>\n",
       "    </tr>\n",
       "    <tr>\n",
       "      <th>SANTA RITA CALIFORNIA</th>\n",
       "      <td>2191.0</td>\n",
       "      <td>24.0</td>\n",
       "      <td>0.0</td>\n",
       "      <td>1394.0</td>\n",
       "      <td>108</td>\n",
       "    </tr>\n",
       "    <tr>\n",
       "      <th>PINNACLES NM</th>\n",
       "      <td>2191.0</td>\n",
       "      <td>26.0</td>\n",
       "      <td>0.0</td>\n",
       "      <td>1213.0</td>\n",
       "      <td>277</td>\n",
       "    </tr>\n",
       "  </tbody>\n",
       "</table>\n",
       "</div>"
      ],
      "text/plain": [
       "                        count  unique  top    freq  missing\n",
       "HOLLISTER CALIFORNIA   2191.0    24.0  0.0  1549.0        2\n",
       "PINNACLES CALIFORNIA   2191.0    29.0  0.0  1252.0        2\n",
       "HERNANDEZ CALIFORNIA   2191.0    28.0  0.0  1327.0       16\n",
       "HOLLISTER 2            2191.0    21.0  0.0  1583.0       54\n",
       "SANTA RITA CALIFORNIA  2191.0    24.0  0.0  1394.0      108\n",
       "PINNACLES NM           2191.0    26.0  0.0  1213.0      277"
      ]
     },
     "execution_count": 16,
     "metadata": {},
     "output_type": "execute_result"
    }
   ],
   "source": [
    "#rank these stations by proportion of 'M' or missing values\n",
    "miss = []\n",
    "for col in df:\n",
    "    miss.append(p[col].value_counts().to_dict()['M'])\n",
    "a = pd.DataFrame(df.describe().transpose())\n",
    "a['missing'] = miss\n",
    "a = a.sort_values('missing')\n",
    "a"
   ]
  },
  {
   "cell_type": "code",
   "execution_count": 17,
   "metadata": {},
   "outputs": [
    {
     "data": {
      "text/plain": [
       "array([<matplotlib.axes._subplots.AxesSubplot object at 0x00000276247DE978>,\n",
       "       <matplotlib.axes._subplots.AxesSubplot object at 0x0000027622BCEBE0>,\n",
       "       <matplotlib.axes._subplots.AxesSubplot object at 0x0000027622E49080>,\n",
       "       <matplotlib.axes._subplots.AxesSubplot object at 0x0000027622B084E0>,\n",
       "       <matplotlib.axes._subplots.AxesSubplot object at 0x00000276228BC940>],\n",
       "      dtype=object)"
      ]
     },
     "execution_count": 17,
     "metadata": {},
     "output_type": "execute_result"
    },
    {
     "data": {
      "image/png": "[encoded data removed]",
      "text/plain": [
       "<Figure size 432x288 with 5 Axes>"
      ]
     },
     "metadata": {
      "needs_background": "light"
     },
     "output_type": "display_data"
    }
   ],
   "source": [
    "#select the best, with fewest missing values\n",
    "top = 5\n",
    "b = a[0:top] \n",
    "best = df[b.index]\n",
    "best.replace(to_replace = ['M','T','S','A'], value=0, regex=True, inplace=True)\n",
    "best.plot(subplots=True) \n"
   ]
  },
  {
   "cell_type": "code",
   "execution_count": 6,
   "metadata": {},
   "outputs": [],
   "source": [
    "years = best.groupby(pd.Grouper(freq='A-SEP')).agg({np.sum}) #'A-SEP' frequency is yearly, ending with end of September\n",
    "# years.to_excel('sanBenito_rainfall.xls')\n"
   ]
  }
 ],
 "metadata": {
  "kernelspec": {
   "display_name": "Python 3",
   "language": "python",
   "name": "python3"
  },
  "language_info": {
   "codemirror_mode": {
    "name": "ipython",
    "version": 3
   },
   "file_extension": ".py",
   "mimetype": "text/x-python",
   "name": "python",
   "nbconvert_exporter": "python",
   "pygments_lexer": "ipython3",
   "version": "3.7.1"
  }
 },
 "nbformat": 4,
 "nbformat_minor": 2
}
