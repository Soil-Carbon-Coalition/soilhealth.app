{
 "cells": [
  {
   "cell_type": "code",
   "execution_count": 1,
   "metadata": {},
   "outputs": [],
   "source": [
    "import pandas as pd, numpy as np, json\n",
    "#from obs.models import Observation"
   ]
  },
  {
   "cell_type": "code",
   "execution_count": 6,
   "metadata": {},
   "outputs": [
    {
     "name": "stdout",
     "output_type": "stream",
     "text": [
      "<class 'pandas.core.frame.DataFrame'>\n",
      "Int64Index: 52 entries, 0 to 296\n",
      "Data columns (total 7 columns):\n",
      "entered         52 non-null datetime64[ns, UTC]\n",
      "id              52 non-null int64\n",
      "observer_id     52 non-null int64\n",
      "parentobs_id    43 non-null float64\n",
      "site_id         52 non-null int64\n",
      "type_id         52 non-null int64\n",
      "values          52 non-null object\n",
      "dtypes: datetime64[ns, UTC](1), float64(1), int64(4), object(1)\n",
      "memory usage: 3.2+ KB\n"
     ]
    }
   ],
   "source": [
    "mysites=[461,462,463,800,801]\n",
    "df = pd.DataFrame(list(Observation.objects.all().values()))\n",
    "df = df[df.site_id.isin(mysites)]\n",
    "df.info()"
   ]
  },
  {
   "cell_type": "code",
   "execution_count": 26,
   "metadata": {},
   "outputs": [
    {
     "name": "stdout",
     "output_type": "stream",
     "text": [
      "<class 'pandas.core.frame.DataFrame'>\n",
      "RangeIndex: 209 entries, 0 to 208\n",
      "Data columns (total 4 columns):\n",
      "entered    188 non-null object\n",
      "site       187 non-null object\n",
      "type       187 non-null object\n",
      "data       187 non-null object\n",
      "dtypes: object(4)\n",
      "memory usage: 6.6+ KB\n"
     ]
    }
   ],
   "source": [
    "df = pd.read_excel('C:/Users/Peter/Documents/atlas/Tulare1.xls')\n",
    "df.info()"
   ]
  },
  {
   "cell_type": "code",
   "execution_count": 29,
   "metadata": {},
   "outputs": [
    {
     "name": "stdout",
     "output_type": "stream",
     "text": [
      "0      {'ringDesc_1': 'Buffalo gourd, good litter abo...\n",
      "1                                                    NaN\n",
      "2      {'date': '2017-10-30', 'site_description': 'Hi...\n",
      "3      {'ringDesc_1': 'small alkali sacaton bunch', '...\n",
      "4      {'bare': '5', 'location': '38 meters, west sid...\n",
      "5      {'date': '2017-10-30', 'bottom_cm': '34', 'sam...\n",
      "6      {'date': '2017-10-30', 'bottom_cm': '34', 'sam...\n",
      "7      {'date': '2017-10-30', 'bottom_cm': '21', 'sam...\n",
      "8      {'date': '2017-10-30', 'bottom_cm': '21', 'sam...\n",
      "9      {'date': '2017-10-30', 'bottom_cm': '9', 'samp...\n",
      "10     {'date': '2017-10-30', 'bottom_cm': 'transect'...\n",
      "11     {'date': '2017-10-30', 'bottom_cm': '25', 'sam...\n",
      "12     {'date': '2017-10-30', 'bottom_cm': '10', 'sam...\n",
      "13     {'value2': '0.20', 'sampleID': 'KOP2 West Past...\n",
      "14     {'value2': '.02', 'sampleID': 'KOP2 C 35-trans...\n",
      "15     {'value2': '.04', 'sampleID': 'KOP 2 B 10-25  ...\n",
      "16     {'value2': '.14', 'sampleID': 'KOP2A  30 ', 'u...\n",
      "17     {'value2': '.02', 'sampleID': 'KOP 2 C 25-tran...\n",
      "18     {'value2': None, 'sampleID': 'KOP2A 30', 'unit...\n",
      "19     {'value2': '26.3', 'sampleID': 'Soil Carbon Co...\n",
      "20     {'value2': None, 'sampleID': 'KOP2A1', 'unit2'...\n",
      "21     {'value2': None, 'sampleID': 'KOP2C1', 'unit2'...\n",
      "22     {'value2': None, 'sampleID': 'KOP2B1', 'unit2'...\n",
      "23                                                   NaN\n",
      "24     {'date': '2017-10-soil sample', 'site_descript...\n",
      "25     {'ringDesc_1': 'Average cover', 'ringDesc_3': ...\n",
      "26     {'bare': '0', 'location': '66 meters on west s...\n",
      "27     {'date': '2017-10-soil sample', 'bottom_cm': '...\n",
      "28     {'date': '2017-10-soil sample', 'bottom_cm': '...\n",
      "29     {'date': '2017-10-soil sample', 'bottom_cm': '...\n",
      "                             ...                        \n",
      "179    {'date': '2018-02-08', 'miscPhoto': 'observati...\n",
      "180    {'ringDesc_1': 'living green vegetation', 'rin...\n",
      "181    {'ringDesc_1': 'living green vegetation', 'rin...\n",
      "182    {'bare': '1', 'location': '5 meters past the c...\n",
      "183    {'date': '2018-02-08', 'bottom_cm': '40', 'sam...\n",
      "184    {'date': '2018-02-08', 'bottom_cm': '40', 'sam...\n",
      "185    {'date': '2018-02-08', 'bottom_cm': '25', 'sam...\n",
      "186    {'date': '2018-02-08', 'bottom_cm': '25', 'sam...\n",
      "187    {'date': '2018-02-08', 'bottom_cm': '25', 'sam...\n",
      "188    {'date': '2018-02-08', 'bottom_cm': '10', 'sam...\n",
      "189    {'value2': None, 'sampleID': 'ESA 4C', 'unit2'...\n",
      "190    {'value2': None, 'sampleID': 'ESA 4A', 'unit2'...\n",
      "191    {'value2': None, 'sampleID': 'ESA 4B', 'unit2'...\n",
      "192                                                  NaN\n",
      "193    {'date': '2018-02-07', 'site_description': 'Fa...\n",
      "194    {'bare': '1', 'location': 'At the center point...\n",
      "195    {'date': '2018-02-07', 'bottom_cm': '40', 'sam...\n",
      "196    {'date': '2018-02-07', 'bottom_cm': '25', 'sam...\n",
      "197    {'date': '2018-02-07', 'bottom_cm': '10', 'sam...\n",
      "198                                                  NaN\n",
      "199    {'date': '2018-02-09', 'site_description': '- ...\n",
      "200    {'ringDesc_1': 'some vegetation', 'ringDesc_3'...\n",
      "201    {'bare': '80', 'location': 'Plot center ', 'mo...\n",
      "202    {'bare': '80', 'location': 'Plot center ', 'mo...\n",
      "203    {'date': '2018-02-09', 'bottom_cm': '40', 'sam...\n",
      "204    {'date': '2018-02-09', 'bottom_cm': '25', 'sam...\n",
      "205    {'date': '2018-02-09', 'bottom_cm': '10', 'sam...\n",
      "206    {'value2': None, 'sampleID': 'ART1C', 'unit2':...\n",
      "207    {'value2': None, 'sampleID': 'ART1B', 'unit2':...\n",
      "208    {'value2': None, 'sampleID': 'ART1A', 'unit2':...\n",
      "Name: data, dtype: object\n"
     ]
    }
   ],
   "source": [
    "df.data.str.replace(\"'observations/\",\"'https://atlasbiowork.com/media/observations/\")\n",
    "print(df.data)"
   ]
  },
  {
   "cell_type": "code",
   "execution_count": null,
   "metadata": {
    "collapsed": true
   },
   "outputs": [],
   "source": []
  },
  {
   "cell_type": "code",
   "execution_count": 30,
   "metadata": {
    "collapsed": true
   },
   "outputs": [],
   "source": [
    "df.to_excel('Tulare3.xls', index=False)"
   ]
  },
  {
   "cell_type": "code",
   "execution_count": 18,
   "metadata": {},
   "outputs": [
    {
     "ename": "KeyError",
     "evalue": "\"['observer' 'date' 'description' 'sampleID' 'num_composited' 'top_cm'\\n 'bottom_cm' 'samplers'] not in index\"",
     "output_type": "error",
     "traceback": [
      "\u001b[0;31m---------------------------------------------------------------------------\u001b[0m",
      "\u001b[0;31mKeyError\u001b[0m                                  Traceback (most recent call last)",
      "\u001b[0;32m<ipython-input-18-c9a784b226d5>\u001b[0m in \u001b[0;36m<module>\u001b[0;34m()\u001b[0m\n\u001b[1;32m      1\u001b[0m \u001b[1;31m#this is a slick way to break out the json field (named values) into columns and add to df\u001b[0m\u001b[1;33m\u001b[0m\u001b[1;33m\u001b[0m\u001b[0m\n\u001b[1;32m      2\u001b[0m \u001b[0md\u001b[0m \u001b[1;33m=\u001b[0m \u001b[0mpd\u001b[0m\u001b[1;33m.\u001b[0m\u001b[0mconcat\u001b[0m\u001b[1;33m(\u001b[0m\u001b[1;33m[\u001b[0m\u001b[0msamples\u001b[0m\u001b[1;33m.\u001b[0m\u001b[0mdrop\u001b[0m\u001b[1;33m(\u001b[0m\u001b[1;34m'values'\u001b[0m\u001b[1;33m,\u001b[0m \u001b[0maxis\u001b[0m\u001b[1;33m=\u001b[0m\u001b[1;36m1\u001b[0m\u001b[1;33m)\u001b[0m\u001b[1;33m,\u001b[0m \u001b[0mpd\u001b[0m\u001b[1;33m.\u001b[0m\u001b[0mDataFrame\u001b[0m\u001b[1;33m(\u001b[0m\u001b[0msamples\u001b[0m\u001b[1;33m[\u001b[0m\u001b[1;34m'values'\u001b[0m\u001b[1;33m]\u001b[0m\u001b[1;33m.\u001b[0m\u001b[0mtolist\u001b[0m\u001b[1;33m(\u001b[0m\u001b[1;33m)\u001b[0m\u001b[1;33m)\u001b[0m\u001b[1;33m]\u001b[0m\u001b[1;33m,\u001b[0m \u001b[0maxis\u001b[0m\u001b[1;33m=\u001b[0m\u001b[1;36m1\u001b[0m\u001b[1;33m)\u001b[0m\u001b[1;33m\u001b[0m\u001b[0m\n\u001b[0;32m----> 3\u001b[0;31m \u001b[0md\u001b[0m\u001b[1;33m=\u001b[0m\u001b[0md\u001b[0m\u001b[1;33m[\u001b[0m\u001b[1;33m[\u001b[0m\u001b[1;34m'id'\u001b[0m\u001b[1;33m,\u001b[0m\u001b[1;34m'site_id'\u001b[0m\u001b[1;33m,\u001b[0m\u001b[1;34m'type_id'\u001b[0m\u001b[1;33m,\u001b[0m\u001b[1;34m'parentobs_id'\u001b[0m\u001b[1;33m,\u001b[0m\u001b[1;34m'entered'\u001b[0m\u001b[1;33m,\u001b[0m\u001b[1;34m'observer'\u001b[0m\u001b[1;33m,\u001b[0m\u001b[1;34m'date'\u001b[0m\u001b[1;33m,\u001b[0m\u001b[1;34m'description'\u001b[0m\u001b[1;33m,\u001b[0m\u001b[1;34m'sampleID'\u001b[0m\u001b[1;33m,\u001b[0m\u001b[1;34m'num_composited'\u001b[0m\u001b[1;33m,\u001b[0m\u001b[1;34m'top_cm'\u001b[0m\u001b[1;33m,\u001b[0m\u001b[1;34m'bottom_cm'\u001b[0m\u001b[1;33m,\u001b[0m\u001b[1;34m'samplers'\u001b[0m\u001b[1;33m]\u001b[0m\u001b[1;33m]\u001b[0m\u001b[1;33m\u001b[0m\u001b[0m\n\u001b[0m\u001b[1;32m      4\u001b[0m \u001b[0md\u001b[0m \u001b[1;33m=\u001b[0m \u001b[0md\u001b[0m\u001b[1;33m.\u001b[0m\u001b[0msort_values\u001b[0m\u001b[1;33m(\u001b[0m\u001b[1;33m[\u001b[0m\u001b[1;34m'site_id'\u001b[0m\u001b[1;33m]\u001b[0m\u001b[1;33m)\u001b[0m\u001b[1;33m\u001b[0m\u001b[0m\n\u001b[1;32m      5\u001b[0m \u001b[1;31m#d = d[['entered', 'analysis', 'analysisNote', 'date_analyzed', 'lab', 'sampleID', 'unit1','value1',\u001b[0m\u001b[1;33m\u001b[0m\u001b[1;33m\u001b[0m\u001b[0m\n",
      "\u001b[0;32mC:\\ProgramData\\Anaconda3\\lib\\site-packages\\pandas\\core\\frame.py\u001b[0m in \u001b[0;36m__getitem__\u001b[0;34m(self, key)\u001b[0m\n\u001b[1;32m   2051\u001b[0m         \u001b[1;32mif\u001b[0m \u001b[0misinstance\u001b[0m\u001b[1;33m(\u001b[0m\u001b[0mkey\u001b[0m\u001b[1;33m,\u001b[0m \u001b[1;33m(\u001b[0m\u001b[0mSeries\u001b[0m\u001b[1;33m,\u001b[0m \u001b[0mnp\u001b[0m\u001b[1;33m.\u001b[0m\u001b[0mndarray\u001b[0m\u001b[1;33m,\u001b[0m \u001b[0mIndex\u001b[0m\u001b[1;33m,\u001b[0m \u001b[0mlist\u001b[0m\u001b[1;33m)\u001b[0m\u001b[1;33m)\u001b[0m\u001b[1;33m:\u001b[0m\u001b[1;33m\u001b[0m\u001b[0m\n\u001b[1;32m   2052\u001b[0m             \u001b[1;31m# either boolean or fancy integer index\u001b[0m\u001b[1;33m\u001b[0m\u001b[1;33m\u001b[0m\u001b[0m\n\u001b[0;32m-> 2053\u001b[0;31m             \u001b[1;32mreturn\u001b[0m \u001b[0mself\u001b[0m\u001b[1;33m.\u001b[0m\u001b[0m_getitem_array\u001b[0m\u001b[1;33m(\u001b[0m\u001b[0mkey\u001b[0m\u001b[1;33m)\u001b[0m\u001b[1;33m\u001b[0m\u001b[0m\n\u001b[0m\u001b[1;32m   2054\u001b[0m         \u001b[1;32melif\u001b[0m \u001b[0misinstance\u001b[0m\u001b[1;33m(\u001b[0m\u001b[0mkey\u001b[0m\u001b[1;33m,\u001b[0m \u001b[0mDataFrame\u001b[0m\u001b[1;33m)\u001b[0m\u001b[1;33m:\u001b[0m\u001b[1;33m\u001b[0m\u001b[0m\n\u001b[1;32m   2055\u001b[0m             \u001b[1;32mreturn\u001b[0m \u001b[0mself\u001b[0m\u001b[1;33m.\u001b[0m\u001b[0m_getitem_frame\u001b[0m\u001b[1;33m(\u001b[0m\u001b[0mkey\u001b[0m\u001b[1;33m)\u001b[0m\u001b[1;33m\u001b[0m\u001b[0m\n",
      "\u001b[0;32mC:\\ProgramData\\Anaconda3\\lib\\site-packages\\pandas\\core\\frame.py\u001b[0m in \u001b[0;36m_getitem_array\u001b[0;34m(self, key)\u001b[0m\n\u001b[1;32m   2095\u001b[0m             \u001b[1;32mreturn\u001b[0m \u001b[0mself\u001b[0m\u001b[1;33m.\u001b[0m\u001b[0mtake\u001b[0m\u001b[1;33m(\u001b[0m\u001b[0mindexer\u001b[0m\u001b[1;33m,\u001b[0m \u001b[0maxis\u001b[0m\u001b[1;33m=\u001b[0m\u001b[1;36m0\u001b[0m\u001b[1;33m,\u001b[0m \u001b[0mconvert\u001b[0m\u001b[1;33m=\u001b[0m\u001b[1;32mFalse\u001b[0m\u001b[1;33m)\u001b[0m\u001b[1;33m\u001b[0m\u001b[0m\n\u001b[1;32m   2096\u001b[0m         \u001b[1;32melse\u001b[0m\u001b[1;33m:\u001b[0m\u001b[1;33m\u001b[0m\u001b[0m\n\u001b[0;32m-> 2097\u001b[0;31m             \u001b[0mindexer\u001b[0m \u001b[1;33m=\u001b[0m \u001b[0mself\u001b[0m\u001b[1;33m.\u001b[0m\u001b[0mix\u001b[0m\u001b[1;33m.\u001b[0m\u001b[0m_convert_to_indexer\u001b[0m\u001b[1;33m(\u001b[0m\u001b[0mkey\u001b[0m\u001b[1;33m,\u001b[0m \u001b[0maxis\u001b[0m\u001b[1;33m=\u001b[0m\u001b[1;36m1\u001b[0m\u001b[1;33m)\u001b[0m\u001b[1;33m\u001b[0m\u001b[0m\n\u001b[0m\u001b[1;32m   2098\u001b[0m             \u001b[1;32mreturn\u001b[0m \u001b[0mself\u001b[0m\u001b[1;33m.\u001b[0m\u001b[0mtake\u001b[0m\u001b[1;33m(\u001b[0m\u001b[0mindexer\u001b[0m\u001b[1;33m,\u001b[0m \u001b[0maxis\u001b[0m\u001b[1;33m=\u001b[0m\u001b[1;36m1\u001b[0m\u001b[1;33m,\u001b[0m \u001b[0mconvert\u001b[0m\u001b[1;33m=\u001b[0m\u001b[1;32mTrue\u001b[0m\u001b[1;33m)\u001b[0m\u001b[1;33m\u001b[0m\u001b[0m\n\u001b[1;32m   2099\u001b[0m \u001b[1;33m\u001b[0m\u001b[0m\n",
      "\u001b[0;32mC:\\ProgramData\\Anaconda3\\lib\\site-packages\\pandas\\core\\indexing.py\u001b[0m in \u001b[0;36m_convert_to_indexer\u001b[0;34m(self, obj, axis, is_setter)\u001b[0m\n\u001b[1;32m   1228\u001b[0m                 \u001b[0mmask\u001b[0m \u001b[1;33m=\u001b[0m \u001b[0mcheck\u001b[0m \u001b[1;33m==\u001b[0m \u001b[1;33m-\u001b[0m\u001b[1;36m1\u001b[0m\u001b[1;33m\u001b[0m\u001b[0m\n\u001b[1;32m   1229\u001b[0m                 \u001b[1;32mif\u001b[0m \u001b[0mmask\u001b[0m\u001b[1;33m.\u001b[0m\u001b[0many\u001b[0m\u001b[1;33m(\u001b[0m\u001b[1;33m)\u001b[0m\u001b[1;33m:\u001b[0m\u001b[1;33m\u001b[0m\u001b[0m\n\u001b[0;32m-> 1230\u001b[0;31m                     \u001b[1;32mraise\u001b[0m \u001b[0mKeyError\u001b[0m\u001b[1;33m(\u001b[0m\u001b[1;34m'%s not in index'\u001b[0m \u001b[1;33m%\u001b[0m \u001b[0mobjarr\u001b[0m\u001b[1;33m[\u001b[0m\u001b[0mmask\u001b[0m\u001b[1;33m]\u001b[0m\u001b[1;33m)\u001b[0m\u001b[1;33m\u001b[0m\u001b[0m\n\u001b[0m\u001b[1;32m   1231\u001b[0m \u001b[1;33m\u001b[0m\u001b[0m\n\u001b[1;32m   1232\u001b[0m                 \u001b[1;32mreturn\u001b[0m \u001b[0m_values_from_object\u001b[0m\u001b[1;33m(\u001b[0m\u001b[0mindexer\u001b[0m\u001b[1;33m)\u001b[0m\u001b[1;33m\u001b[0m\u001b[0m\n",
      "\u001b[0;31mKeyError\u001b[0m: \"['observer' 'date' 'description' 'sampleID' 'num_composited' 'top_cm'\\n 'bottom_cm' 'samplers'] not in index\""
     ]
    }
   ],
   "source": [
    "#this is a slick way to break out the json field (named values) into columns and add to df\n",
    "d = pd.concat([samples.drop('values', axis=1), pd.DataFrame(samples['values'].tolist())], axis=1)\n",
    "d=d[['id','site_id','type_id','parentobs_id','entered','observer','date','description','sampleID','num_composited','top_cm','bottom_cm','samplers']]\n",
    "d = d.sort_values(['site_id'])\n",
    "#d = d[['entered', 'analysis', 'analysisNote', 'date_analyzed', 'lab', 'sampleID', 'unit1','value1',\n",
    "       #'unit2','value2', 'unit3', 'value3']]\n",
    "d = d.replace(np.nan,'',regex=True)\n",
    "d\n",
    "#d.to_csv(plotID + '.csv',index=False)"
   ]
  }
 ],
 "metadata": {
  "kernelspec": {
   "display_name": "Python 3",
   "language": "python",
   "name": "python3"
  },
  "language_info": {
   "codemirror_mode": {
    "name": "ipython",
    "version": 3
   },
   "file_extension": ".py",
   "mimetype": "text/x-python",
   "name": "python",
   "nbconvert_exporter": "python",
   "pygments_lexer": "ipython3",
   "version": "3.7.1"
  }
 },
 "nbformat": 4,
 "nbformat_minor": 2
}
