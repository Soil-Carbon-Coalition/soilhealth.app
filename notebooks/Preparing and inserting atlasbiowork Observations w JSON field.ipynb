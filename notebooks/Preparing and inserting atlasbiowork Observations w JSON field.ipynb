{
 "cells": [
  {
   "cell_type": "code",
   "execution_count": 1,
   "metadata": {},
   "outputs": [],
   "source": [
    "import pandas as pd, numpy as np, json, math\n",
    "import datetime as dt"
   ]
  },
  {
   "cell_type": "code",
   "execution_count": 3,
   "metadata": {},
   "outputs": [],
   "source": [
    "from obs.models import Observation"
   ]
  },
  {
   "cell_type": "markdown",
   "metadata": {},
   "source": [
    "## This is for observations that are keyed to existing sites\n",
    "see Geometry notebook for creating new sites from lat, long columns.\n",
    "\n",
    "Data procedure: \n",
    "1. First get sites into db with Geometry notebook. \n",
    "2. Then get photos (see Retrieving photos notebook for grabbing them from urls, and so you can give photos filenames that can be associated with observations by id or something).\n",
    "3. Lastly, format the data with JSON field. This can include URLs for photos."
   ]
  },
  {
   "cell_type": "code",
   "execution_count": 2,
   "metadata": {},
   "outputs": [
    {
     "data": {
      "text/plain": [
       "site_id                    int64\n",
       "observer_id                int64\n",
       "type_id                    int64\n",
       "parentobs_id               int64\n",
       "sampleID                  object\n",
       "num_composited             int64\n",
       "date              datetime64[ns]\n",
       "top_cm                     int64\n",
       "bottom_cm                  int64\n",
       "samplers                  object\n",
       "description               object\n",
       "dtype: object"
      ]
     },
     "execution_count": 2,
     "metadata": {},
     "output_type": "execute_result"
    }
   ],
   "source": [
    "df = pd.read_excel('../atlasdata/BELCJul2019samples.xls')\n",
    "#watch out for missing or blank fields, do cleanup as needed\n",
    "df.dtypes"
   ]
  },
  {
   "cell_type": "code",
   "execution_count": 10,
   "metadata": {},
   "outputs": [],
   "source": [
    "df = df.rename(columns={'site_description':'description','date':'olddate'})"
   ]
  },
  {
   "cell_type": "code",
   "execution_count": 57,
   "metadata": {},
   "outputs": [],
   "source": [
    "#add foreign key fields for atlasbiowork Observation model\n",
    "df['observer_id'] = 1 # this is my observer_id\n",
    "df.rename(columns={'pk':'site_id'}, inplace=True)\n",
    "df['type_id'] = 19 #for infiltration"
   ]
  },
  {
   "cell_type": "code",
   "execution_count": 68,
   "metadata": {},
   "outputs": [],
   "source": [
    "#Collect timings columns in format 'mm:ss, mm:ss, mm:ss'\n",
    "#convert decimal minutes to mm:ss\n",
    "def pad(n):\n",
    "    if n > 0:\n",
    "        return str(math.floor(n)) + ':' + str.zfill(str(math.floor((n % 1)*60)),2)\n",
    "    else:\n",
    "        return ''\n",
    "\n",
    "timing_cols=['ring_1:inf_time1','ring_1:inf_time2','ring_1:inf_time3','ring_1:inf_time4']   \n",
    "for i, row in df[timing_cols].iterrows():\n",
    "    l = list(row)\n",
    "    m = list(pad(value) for value in l if not math.isnan(value))\n",
    "    df.loc[i,'timings_1'] = ', '.join(m)\n"
   ]
  },
  {
   "cell_type": "code",
   "execution_count": 3,
   "metadata": {
    "scrolled": true
   },
   "outputs": [
    {
     "data": {
      "text/plain": [
       "site_id            int64\n",
       "observer_id        int64\n",
       "type_id            int64\n",
       "parentobs_id       int64\n",
       "sampleID          object\n",
       "num_composited     int64\n",
       "date              object\n",
       "top_cm             int64\n",
       "bottom_cm          int64\n",
       "samplers          object\n",
       "description       object\n",
       "dtype: object"
      ]
     },
     "execution_count": 3,
     "metadata": {},
     "output_type": "execute_result"
    }
   ],
   "source": [
    "#we need YYYY-MM-DD format as string for the JSON field\n",
    "df['date'] = pd.to_datetime(df['date']).dt.strftime('%Y-%m-%d')\n",
    "df.dtypes"
   ]
  },
  {
   "cell_type": "markdown",
   "metadata": {},
   "source": [
    "this next part is tricky. Must use JSON functions, not to_dict()."
   ]
  },
  {
   "cell_type": "code",
   "execution_count": 4,
   "metadata": {},
   "outputs": [],
   "source": [
    "site_fields = ['id', 'name', 'geometry', 'accuracy']\n",
    "observation_fields = ['values','observer_id', 'site_id', 'type_id', 'parentobs_id']\n",
    "samples_fields = ['top_cm', 'bottom_cm', 'description','num_composited','sampleID','date','samplers']\n",
    "analysis_values=['sampleID','analysis', 'lab', 'date_analyzed', 'unit2', 'value2', 'unit1',\n",
    "       'value1', 'unit3', 'value3', 'analysisNote']"
   ]
  },
  {
   "cell_type": "code",
   "execution_count": 5,
   "metadata": {},
   "outputs": [],
   "source": [
    "my_values = samples_fields\n",
    "#infil_values = ['timings_1','description','date']#columns for JSON values field for this datatype.\n",
    "s = df[my_values].to_json(orient='records')\n",
    "t = pd.Series(json.loads(s))\n",
    "v = pd.DataFrame(t, columns=['values'])\n",
    "#now we have a JSON values field that we can add to df"
   ]
  },
  {
   "cell_type": "code",
   "execution_count": 6,
   "metadata": {},
   "outputs": [],
   "source": [
    "#reduce unneeded columns\n",
    "df= df[['site_id',\n",
    "       'observer_id', 'type_id','parentobs_id']]"
   ]
  },
  {
   "cell_type": "code",
   "execution_count": 7,
   "metadata": {},
   "outputs": [],
   "source": [
    "#merge in the values columns. The indexes should correspond since they are from the same df\n",
    "df = df.merge(v, left_index=True, right_index=True)"
   ]
  },
  {
   "cell_type": "code",
   "execution_count": 8,
   "metadata": {},
   "outputs": [
    {
     "data": {
      "text/html": [
       "<div>\n",
       "<style scoped>\n",
       "    .dataframe tbody tr th:only-of-type {\n",
       "        vertical-align: middle;\n",
       "    }\n",
       "\n",
       "    .dataframe tbody tr th {\n",
       "        vertical-align: top;\n",
       "    }\n",
       "\n",
       "    .dataframe thead th {\n",
       "        text-align: right;\n",
       "    }\n",
       "</style>\n",
       "<table border=\"1\" class=\"dataframe\">\n",
       "  <thead>\n",
       "    <tr style=\"text-align: right;\">\n",
       "      <th></th>\n",
       "      <th>site_id</th>\n",
       "      <th>observer_id</th>\n",
       "      <th>type_id</th>\n",
       "      <th>parentobs_id</th>\n",
       "      <th>values</th>\n",
       "    </tr>\n",
       "  </thead>\n",
       "  <tbody>\n",
       "    <tr>\n",
       "      <th>0</th>\n",
       "      <td>520</td>\n",
       "      <td>1</td>\n",
       "      <td>31</td>\n",
       "      <td>2363</td>\n",
       "      <td>{'top_cm': 0, 'bottom_cm': 10, 'description': ...</td>\n",
       "    </tr>\n",
       "    <tr>\n",
       "      <th>1</th>\n",
       "      <td>520</td>\n",
       "      <td>1</td>\n",
       "      <td>31</td>\n",
       "      <td>2365</td>\n",
       "      <td>{'top_cm': 10, 'bottom_cm': 20, 'description':...</td>\n",
       "    </tr>\n",
       "    <tr>\n",
       "      <th>2</th>\n",
       "      <td>520</td>\n",
       "      <td>1</td>\n",
       "      <td>31</td>\n",
       "      <td>2367</td>\n",
       "      <td>{'top_cm': 20, 'bottom_cm': 35, 'description':...</td>\n",
       "    </tr>\n",
       "    <tr>\n",
       "      <th>3</th>\n",
       "      <td>521</td>\n",
       "      <td>1</td>\n",
       "      <td>31</td>\n",
       "      <td>2373</td>\n",
       "      <td>{'top_cm': 20, 'bottom_cm': 35, 'description':...</td>\n",
       "    </tr>\n",
       "    <tr>\n",
       "      <th>4</th>\n",
       "      <td>522</td>\n",
       "      <td>1</td>\n",
       "      <td>31</td>\n",
       "      <td>2375</td>\n",
       "      <td>{'top_cm': 0, 'bottom_cm': 10, 'description': ...</td>\n",
       "    </tr>\n",
       "    <tr>\n",
       "      <th>5</th>\n",
       "      <td>522</td>\n",
       "      <td>1</td>\n",
       "      <td>31</td>\n",
       "      <td>2377</td>\n",
       "      <td>{'top_cm': 10, 'bottom_cm': 20, 'description':...</td>\n",
       "    </tr>\n",
       "    <tr>\n",
       "      <th>6</th>\n",
       "      <td>522</td>\n",
       "      <td>1</td>\n",
       "      <td>31</td>\n",
       "      <td>2379</td>\n",
       "      <td>{'top_cm': 20, 'bottom_cm': 35, 'description':...</td>\n",
       "    </tr>\n",
       "    <tr>\n",
       "      <th>7</th>\n",
       "      <td>523</td>\n",
       "      <td>1</td>\n",
       "      <td>31</td>\n",
       "      <td>2381</td>\n",
       "      <td>{'top_cm': 0, 'bottom_cm': 10, 'description': ...</td>\n",
       "    </tr>\n",
       "    <tr>\n",
       "      <th>8</th>\n",
       "      <td>523</td>\n",
       "      <td>1</td>\n",
       "      <td>31</td>\n",
       "      <td>2383</td>\n",
       "      <td>{'top_cm': 10, 'bottom_cm': 20, 'description':...</td>\n",
       "    </tr>\n",
       "    <tr>\n",
       "      <th>9</th>\n",
       "      <td>523</td>\n",
       "      <td>1</td>\n",
       "      <td>31</td>\n",
       "      <td>2385</td>\n",
       "      <td>{'top_cm': 20, 'bottom_cm': 35, 'description':...</td>\n",
       "    </tr>\n",
       "    <tr>\n",
       "      <th>10</th>\n",
       "      <td>525</td>\n",
       "      <td>1</td>\n",
       "      <td>31</td>\n",
       "      <td>2393</td>\n",
       "      <td>{'top_cm': 0, 'bottom_cm': 10, 'description': ...</td>\n",
       "    </tr>\n",
       "    <tr>\n",
       "      <th>11</th>\n",
       "      <td>525</td>\n",
       "      <td>1</td>\n",
       "      <td>31</td>\n",
       "      <td>2395</td>\n",
       "      <td>{'top_cm': 10, 'bottom_cm': 20, 'description':...</td>\n",
       "    </tr>\n",
       "    <tr>\n",
       "      <th>12</th>\n",
       "      <td>525</td>\n",
       "      <td>1</td>\n",
       "      <td>31</td>\n",
       "      <td>2397</td>\n",
       "      <td>{'top_cm': 20, 'bottom_cm': 35, 'description':...</td>\n",
       "    </tr>\n",
       "  </tbody>\n",
       "</table>\n",
       "</div>"
      ],
      "text/plain": [
       "    site_id  observer_id  type_id  parentobs_id  \\\n",
       "0       520            1       31          2363   \n",
       "1       520            1       31          2365   \n",
       "2       520            1       31          2367   \n",
       "3       521            1       31          2373   \n",
       "4       522            1       31          2375   \n",
       "5       522            1       31          2377   \n",
       "6       522            1       31          2379   \n",
       "7       523            1       31          2381   \n",
       "8       523            1       31          2383   \n",
       "9       523            1       31          2385   \n",
       "10      525            1       31          2393   \n",
       "11      525            1       31          2395   \n",
       "12      525            1       31          2397   \n",
       "\n",
       "                                               values  \n",
       "0   {'top_cm': 0, 'bottom_cm': 10, 'description': ...  \n",
       "1   {'top_cm': 10, 'bottom_cm': 20, 'description':...  \n",
       "2   {'top_cm': 20, 'bottom_cm': 35, 'description':...  \n",
       "3   {'top_cm': 20, 'bottom_cm': 35, 'description':...  \n",
       "4   {'top_cm': 0, 'bottom_cm': 10, 'description': ...  \n",
       "5   {'top_cm': 10, 'bottom_cm': 20, 'description':...  \n",
       "6   {'top_cm': 20, 'bottom_cm': 35, 'description':...  \n",
       "7   {'top_cm': 0, 'bottom_cm': 10, 'description': ...  \n",
       "8   {'top_cm': 10, 'bottom_cm': 20, 'description':...  \n",
       "9   {'top_cm': 20, 'bottom_cm': 35, 'description':...  \n",
       "10  {'top_cm': 0, 'bottom_cm': 10, 'description': ...  \n",
       "11  {'top_cm': 10, 'bottom_cm': 20, 'description':...  \n",
       "12  {'top_cm': 20, 'bottom_cm': 35, 'description':...  "
      ]
     },
     "execution_count": 8,
     "metadata": {},
     "output_type": "execute_result"
    }
   ],
   "source": [
    "df"
   ]
  },
  {
   "cell_type": "code",
   "execution_count": 11,
   "metadata": {},
   "outputs": [],
   "source": [
    "# df = df[['site_id', 'observer_id', 'type_id', 'parentobs_id', 'values']]\n",
    "df['values'] = df['values'].str.replace(\"\\\"\",\"'\")"
   ]
  },
  {
   "cell_type": "code",
   "execution_count": 13,
   "metadata": {},
   "outputs": [
    {
     "data": {
      "text/plain": [
       "site_id           int64\n",
       "observer_id       int64\n",
       "type_id           int64\n",
       "parentobs_id      int64\n",
       "values          float64\n",
       "dtype: object"
      ]
     },
     "execution_count": 13,
     "metadata": {},
     "output_type": "execute_result"
    }
   ],
   "source": [
    "df.dtypes"
   ]
  },
  {
   "cell_type": "code",
   "execution_count": 10,
   "metadata": {},
   "outputs": [],
   "source": [
    "#save it for good measure\n",
    "df.to_csv('../atlasdata/belc.csv', sep='\\t',index=False)"
   ]
  },
  {
   "cell_type": "markdown",
   "metadata": {},
   "source": [
    "<font color= red>WARNING: db operation ahead</font>\n",
    "don't use bulk_create. Values field has to be a dict, not a str"
   ]
  },
  {
   "cell_type": "code",
   "execution_count": 19,
   "metadata": {},
   "outputs": [
    {
     "data": {
      "text/plain": [
       "site_id                                                       462\n",
       "observer_id                                                    45\n",
       "type_id                                                        33\n",
       "parentobs_id                                                 4450\n",
       "values          {'sampleID': 'TR1A', 'unit3': 'total organic c...\n",
       "Name: 0, dtype: object"
      ]
     },
     "execution_count": 19,
     "metadata": {},
     "output_type": "execute_result"
    }
   ],
   "source": []
  },
  {
   "cell_type": "code",
   "execution_count": 18,
   "metadata": {},
   "outputs": [],
   "source": [
    "df['values'] = df['values'].astype(str)"
   ]
  },
  {
   "cell_type": "code",
   "execution_count": 26,
   "metadata": {},
   "outputs": [],
   "source": [
    "#now this seems to work!!!\n",
    "for row in df.itertuples():\n",
    "    p = Observation(\n",
    "        site_id=row[1],\n",
    "        observer_id=row[2],\n",
    "        type_id=row[3],\n",
    "        parentobs_id=row[4],\n",
    "        values=row[5])\n",
    "    p.save()  #UNCOMMENT AT YOUR PERIL!!!! \n",
    "    \n",
    "    "
   ]
  }
 ],
 "metadata": {
  "kernelspec": {
   "display_name": "Python 3",
   "language": "python",
   "name": "python3"
  },
  "language_info": {
   "codemirror_mode": {
    "name": "ipython",
    "version": 3
   },
   "file_extension": ".py",
   "mimetype": "text/x-python",
   "name": "python",
   "nbconvert_exporter": "python",
   "pygments_lexer": "ipython3",
   "version": "3.7.1"
  }
 },
 "nbformat": 4,
 "nbformat_minor": 2
}
