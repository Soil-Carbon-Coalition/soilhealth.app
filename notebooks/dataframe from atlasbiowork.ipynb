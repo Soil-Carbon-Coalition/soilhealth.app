{
 "cells": [
  {
   "cell_type": "code",
   "execution_count": 1,
   "metadata": {},
   "outputs": [],
   "source": [
    "import pandas as pd, numpy as np\n",
    "from obs.models import Observation, Site\n"
   ]
  },
  {
   "cell_type": "code",
   "execution_count": 17,
   "metadata": {},
   "outputs": [],
   "source": [
    "#first, choose sites and data types you want\n",
    "\n",
    "mysites = ['FOST1','FOST2','SONI1','SONI2','MIRA1','MIRA2','MIRA3','Drypond','Tabletop','Repeater','Eastend']\n",
    "df = pd.DataFrame(list(Site.objects.all().values()))\n",
    "sites = df[df['name'].isin(mysites)]\n"
   ]
  },
  {
   "cell_type": "code",
   "execution_count": 18,
   "metadata": {},
   "outputs": [],
   "source": [
    "mytypes = [33]\n",
    "\n",
    "df = pd.DataFrame(list(Observation.objects.all().values()))\n",
    "df = df[df['site_id'].isin(sites.id)]\n",
    "samples = df[df['type_id']==31]\n",
    "analyses = df[df['type_id']==33]"
   ]
  },
  {
   "cell_type": "code",
   "execution_count": 21,
   "metadata": {},
   "outputs": [],
   "source": [
    "samples.to_csv('CalifSpring.csv', index=False)"
   ]
  },
  {
   "cell_type": "code",
   "execution_count": null,
   "metadata": {},
   "outputs": [],
   "source": [
    "df = pd.read_excel('CaliforniaSpring2019Analyses.xls')"
   ]
  }
 ],
 "metadata": {
  "kernelspec": {
   "display_name": "Django Shell-Plus",
   "language": "python",
   "name": "django_extensions"
  },
  "language_info": {
   "codemirror_mode": {
    "name": "ipython",
    "version": 3
   },
   "file_extension": ".py",
   "mimetype": "text/x-python",
   "name": "python",
   "nbconvert_exporter": "python",
   "pygments_lexer": "ipython3",
   "version": "3.5.2"
  }
 },
 "nbformat": 4,
 "nbformat_minor": 2
}
