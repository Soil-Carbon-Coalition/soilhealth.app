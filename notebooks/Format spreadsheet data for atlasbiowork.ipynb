{
 "cells": [
  {
   "cell_type": "code",
   "execution_count": 1,
   "metadata": {
    "collapsed": true
   },
   "outputs": [],
   "source": [
    "import pandas as pd\n",
    "import numpy as np\n",
    "import json"
   ]
  },
  {
   "cell_type": "code",
   "execution_count": 2,
   "metadata": {
    "collapsed": true
   },
   "outputs": [],
   "source": [
    "#fields for csv\n",
    "site_fields = ['id', 'name', 'geometry', 'accuracy']\n",
    "observation_fields = ['values','observer_id', 'site_id', 'type_id', 'parentobs_id']"
   ]
  },
  {
   "cell_type": "code",
   "execution_count": 7,
   "metadata": {},
   "outputs": [
    {
     "name": "stdout",
     "output_type": "stream",
     "text": [
      "{\"top_cm\":10,\"bottom_cm\":25,\"description\":\"reddish, friable loam, moist > 2 cm, roots abundant to 30 cm, increasing concretions > 20 cm, no worms seen.\",\"num_composited\":8,\"sampleID\":\"JXOct2018B\",\"date\":\"2018-10-16\",\"samplers\":null}\n"
     ]
    }
   ],
   "source": [
    "df = pd.read_excel('C:/Users/Peter/Documents/atlas/atlasdata/Dec2018samples.xls')\n",
    "#format dates as strings, yyyy-mm-dd\n",
    "df['date'] = df['date'].dt.strftime('%Y-%m-%d')\n",
    "#this is custom for each data type\n",
    "samplesfields = ['top_cm', 'bottom_cm', 'description','num_composited','sampleID','date','samplers']\n",
    "jsonvalues= df[samplesfields]\n",
    "\n",
    "#create dataframe with same length to hold JSON field\n",
    "json = pd.DataFrame(index = df.index, columns = ['values'])\n",
    "for i, row in jsonvalues.iterrows():\n",
    "    json.values[i]= jsonvalues.loc[i].to_json()\n",
    "    \n",
    "merged = df.merge(json, left_index=True, right_index=True)\n",
    "final = merged[observation_fields]\n",
    "print(final.loc[1,'values'])"
   ]
  },
  {
   "cell_type": "code",
   "execution_count": 8,
   "metadata": {
    "collapsed": true
   },
   "outputs": [],
   "source": [
    "final.to_csv('C:/Users/Peter/Documents/atlas/atlasdata/Dec2018samples.csv', index=False)"
   ]
  }
 ],
 "metadata": {
  "kernelspec": {
   "display_name": "Python 3",
   "language": "python",
   "name": "python3"
  },
  "language_info": {
   "codemirror_mode": {
    "name": "ipython",
    "version": 3
   },
   "file_extension": ".py",
   "mimetype": "text/x-python",
   "name": "python",
   "nbconvert_exporter": "python",
   "pygments_lexer": "ipython3",
   "version": "3.7.1"
  }
 },
 "nbformat": 4,
 "nbformat_minor": 2
}
