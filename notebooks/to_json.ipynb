{
 "cells": [
  {
   "cell_type": "code",
   "execution_count": 1,
   "metadata": {
    "collapsed": true
   },
   "outputs": [],
   "source": [
    "import pandas as pd, numpy as np, json\n"
   ]
  },
  {
   "cell_type": "code",
   "execution_count": 2,
   "metadata": {
    "collapsed": false
   },
   "outputs": [
    {
     "name": "stdout",
     "output_type": "stream",
     "text": [
      "<class 'pandas.core.frame.DataFrame'>\n",
      "RangeIndex: 6142 entries, 0 to 6141\n",
      "Data columns (total 8 columns):\n",
      "Unnamed: 0      6142 non-null int64\n",
      "entered         6142 non-null object\n",
      "id              6142 non-null int64\n",
      "observer_id     6142 non-null int64\n",
      "parentobs_id    5495 non-null float64\n",
      "site_id         6142 non-null int64\n",
      "type_id         6142 non-null int64\n",
      "values          6142 non-null object\n",
      "dtypes: float64(1), int64(5), object(2)\n",
      "memory usage: 384.0+ KB\n"
     ]
    }
   ],
   "source": [
    "df=pd.read_csv('C:/Users/Peter/Documents/atlasbiowork/obsOct2018.csv')\n",
    "df.info()\n"
   ]
  },
  {
   "cell_type": "code",
   "execution_count": 3,
   "metadata": {
    "collapsed": true
   },
   "outputs": [],
   "source": [
    "mysites = [902,903,904,905]\n",
    "df = df[df.site_id.isin(mysites)]"
   ]
  },
  {
   "cell_type": "code",
   "execution_count": 6,
   "metadata": {
    "collapsed": false
   },
   "outputs": [],
   "source": [
    "df.to_excel('Tulare.xls',index=False)"
   ]
  },
  {
   "cell_type": "code",
   "execution_count": 4,
   "metadata": {
    "collapsed": false
   },
   "outputs": [
    {
     "data": {
      "text/plain": [
       "'[{\"Unnamed: 0\": 135, \"entered\": \"2018-07-19 16:28:49.564603+00:00\", \"id\": 7421, \"observer_id\": 65, \"parentobs_id\": 7418.0, \"site_id\": 905, \"type_id\": 33, \"values\": \"{\\'value2\\': None, \\'sampleID\\': \\'ART1C\\', \\'unit2\\': None, \\'unit1\\': \\'total percentage carbon\\', \\'date_analyzed\\': \\'2018-06-29\\', \\'value3\\': None, \\'value1\\': \\'0.20\\', \\'analysisNote\\': \\'Date analyzed is actually the date we received the analysis, not sure of the date the sample was analyzed.\\', \\'lab\\': \\'OSU Central Analytical Laboratory\\', \\'analysis\\': \\'Soil Analysis Report\\', \\'unit3\\': None}\"}, {\"Unnamed: 0\": 136, \"entered\": \"2018-07-19 16:27:49.967253+00:00\", \"id\": 7420, \"observer_id\": 65, \"parentobs_id\": 7417.0, \"site_id\": 905, \"type_id\": 33, \"values\": \"{\\'value2\\': None, \\'sampleID\\': \\'ART1B\\', \\'unit2\\': None, \\'unit1\\': \\'total percentage carbon\\', \\'date_analyzed\\': \\'2018-06-29\\', \\'value3\\': None, \\'value1\\': \\'0.31\\', \\'analysisNote\\': \\'Date analyzed is actually the date we received the analysis, not sure of the date the sample was analyzed.\\', \\'lab\\': \\'OSU Central Analytical Laboratory\\', \\'analysis\\': \\'Soil Analysis Report\\', \\'unit3\\': None}\"}, {\"Unnamed: 0\": 137, \"entered\": \"2018-07-19 16:26:52.616794+00:00\", \"id\": 7419, \"observer_id\": 65, \"parentobs_id\": 7416.0, \"site_id\": 905, \"type_id\": 33, \"values\": \"{\\'value2\\': None, \\'sampleID\\': \\'ART1A\\', \\'unit2\\': None, \\'unit1\\': \\'total percentage carbon\\', \\'date_analyzed\\': \\'2018-06-29\\', \\'value3\\': None, \\'value1\\': \\'0.79\\', \\'analysisNote\\': \\'Date analyzed is actually the date we received the analysis, not sure of the date the sample was analyzed.\\', \\'lab\\': \\'OSU Central Analytical Laboratory\\', \\'analysis\\': \\'Soil Analysis Report\\', \\'unit3\\': None}\"}, {\"Unnamed: 0\": 138, \"entered\": \"2018-07-19 16:25:10.882949+00:00\", \"id\": 7418, \"observer_id\": 65, \"parentobs_id\": NaN, \"site_id\": 905, \"type_id\": 31, \"values\": \"{\\'date\\': \\'2018-02-09\\', \\'bottom_cm\\': \\'40\\', \\'samplers\\': \\'Tabitha, Raquel, Anel, Dana\\', \\'description\\': \\'in a river bed\\', \\'sampleID\\': \\'ART1C\\', \\'num_composited\\': \\'8\\', \\'top_cm\\': \\'25\\'}\"}, {\"Unnamed: 0\": 139, \"entered\": \"2018-07-19 16:24:34.678972+00:00\", \"id\": 7417, \"observer_id\": 65, \"parentobs_id\": NaN, \"site_id\": 905, \"type_id\": 31, \"values\": \"{\\'date\\': \\'2018-02-09\\', \\'bottom_cm\\': \\'25\\', \\'samplers\\': \\'Tabitha, Raquel, Anel, Dana\\', \\'description\\': \\'in a river bed\\', \\'sampleID\\': \\'ART1B\\', \\'num_composited\\': \\'8\\', \\'top_cm\\': \\'10\\'}\"}, {\"Unnamed: 0\": 140, \"entered\": \"2018-07-19 16:23:49.264964+00:00\", \"id\": 7416, \"observer_id\": 65, \"parentobs_id\": NaN, \"site_id\": 905, \"type_id\": 31, \"values\": \"{\\'date\\': \\'2018-02-09\\', \\'bottom_cm\\': \\'10\\', \\'samplers\\': \\'Tabitha, Raquel, Anel, Dana\\', \\'description\\': \\'in a river bed\\', \\'sampleID\\': \\'ART1A\\', \\'num_composited\\': \\'8\\', \\'top_cm\\': \\'0\\'}\"}, {\"Unnamed: 0\": 141, \"entered\": \"2018-07-19 16:19:45.759736+00:00\", \"id\": 7415, \"observer_id\": 65, \"parentobs_id\": 7413.0, \"site_id\": 902, \"type_id\": 33, \"values\": \"{\\'value2\\': None, \\'sampleID\\': \\'MOHS1C\\', \\'unit2\\': None, \\'unit1\\': \\'total percentage carbon\\', \\'date_analyzed\\': \\'2018-06-29\\', \\'value3\\': None, \\'value1\\': \\'0.36\\', \\'analysisNote\\': \\'Date analyzed is actually the date we received the analysis, not sure of the date the sample was analyzed.\\', \\'lab\\': \\'OSU Central Analytical Laboratory\\', \\'analysis\\': \\'Soil Analysis Report\\', \\'unit3\\': None}\"}, {\"Unnamed: 0\": 142, \"entered\": \"2018-07-19 16:18:43.176550+00:00\", \"id\": 7414, \"observer_id\": 65, \"parentobs_id\": 7412.0, \"site_id\": 902, \"type_id\": 33, \"values\": \"{\\'value2\\': None, \\'sampleID\\': \\'MOHS1B\\', \\'unit2\\': None, \\'unit1\\': \\'total percentage carbon\\', \\'date_analyzed\\': \\'2018-06-29\\', \\'value3\\': None, \\'value1\\': \\'0.45\\', \\'analysisNote\\': \\'Date analyzed is actually the date we received the analysis, not sure of the date the sample was analyzed.\\', \\'lab\\': \\'OSU Central Analytical Laboratory\\', \\'analysis\\': \\'Soil Analysis Report\\', \\'unit3\\': None}\"}, {\"Unnamed: 0\": 143, \"entered\": \"2018-07-19 16:17:35.094465+00:00\", \"id\": 7413, \"observer_id\": 65, \"parentobs_id\": NaN, \"site_id\": 902, \"type_id\": 31, \"values\": \"{\\'date\\': \\'2018-02-15\\', \\'bottom_cm\\': \\'40\\', \\'samplers\\': \\'Marina Martinez Ferreira, Justin Clark Hunziger, Kaylee Murphy, Zackery Pena, Fernando Ceja, Rafael Zaragosa, Sam Weiser, Bud Darwin, Dana Everhart\\', \\'description\\': \\'very compacted\\', \\'sampleID\\': \\'MOHS1C\\', \\'num_composited\\': \\'8\\', \\'top_cm\\': \\'25\\'}\"}, {\"Unnamed: 0\": 144, \"entered\": \"2018-07-19 16:16:11.057255+00:00\", \"id\": 7412, \"observer_id\": 65, \"parentobs_id\": NaN, \"site_id\": 902, \"type_id\": 31, \"values\": \"{\\'date\\': \\'2018-02-15\\', \\'bottom_cm\\': \\'25\\', \\'samplers\\': \\'Marina Martinez Ferreira, Justin Clark Hunziger, Kaylee Murphy, Zackery Pena, Fernando Ceja, Rafael Zaragosa, Sam Weiser, Bud Darwin, Dana Everhart\\', \\'description\\': \\'very compacted\\', \\'sampleID\\': \\'MOHS1B\\', \\'num_composited\\': \\'8\\', \\'top_cm\\': \\'10\\'}\"}, {\"Unnamed: 0\": 145, \"entered\": \"2018-07-19 16:13:47.820594+00:00\", \"id\": 7411, \"observer_id\": 65, \"parentobs_id\": 7294.0, \"site_id\": 902, \"type_id\": 33, \"values\": \"{\\'value2\\': None, \\'sampleID\\': \\'MOHS1A\\', \\'unit2\\': None, \\'unit1\\': \\'total percentage carbon\\', \\'date_analyzed\\': \\'2018-06-29\\', \\'value3\\': None, \\'value1\\': \\'1.43\\', \\'analysisNote\\': \\'Date analyzed is actually the date we received the analysis, not sure of the date the sample was analyzed.\\', \\'lab\\': \\'OSU Central Analytical Laboratory\\', \\'analysis\\': \\'Soil Analysis Report\\', \\'unit3\\': None}\"}, {\"Unnamed: 0\": 146, \"entered\": \"2018-07-19 16:10:38.276206+00:00\", \"id\": 7410, \"observer_id\": 65, \"parentobs_id\": 7305.0, \"site_id\": 903, \"type_id\": 33, \"values\": \"{\\'value2\\': None, \\'sampleID\\': \\'ESA 4C\\', \\'unit2\\': None, \\'unit1\\': \\'total carbon percentage\\', \\'date_analyzed\\': \\'2018-06-29\\', \\'value3\\': None, \\'value1\\': \\'0.37\\', \\'analysisNote\\': \\'Date analyzed is actually the date we received the analysis, not sure of the date the sample was analyzed.\\', \\'lab\\': \\'OSU Central Analytical Laboratory\\', \\'analysis\\': \\'Soil Analysis Report\\', \\'unit3\\': None}\"}, {\"Unnamed: 0\": 147, \"entered\": \"2018-07-19 16:10:29.038878+00:00\", \"id\": 7409, \"observer_id\": 65, \"parentobs_id\": 7299.0, \"site_id\": 903, \"type_id\": 33, \"values\": \"{\\'value2\\': None, \\'sampleID\\': \\'ESA 4A\\', \\'unit2\\': None, \\'unit1\\': \\'total percentage carbon\\', \\'date_analyzed\\': \\'2018-06-29\\', \\'value3\\': None, \\'value1\\': \\'1.91\\', \\'analysisNote\\': None, \\'lab\\': \\'OSU Central Analytical Laboratory\\', \\'analysis\\': \\'Soil Analysis Report\\', \\'unit3\\': None}\"}, {\"Unnamed: 0\": 148, \"entered\": \"2018-07-19 16:08:19.226750+00:00\", \"id\": 7408, \"observer_id\": 65, \"parentobs_id\": 7302.0, \"site_id\": 903, \"type_id\": 33, \"values\": \"{\\'value2\\': None, \\'sampleID\\': \\'ESA 4B\\', \\'unit2\\': None, \\'unit1\\': \\'total percentage carbon\\', \\'date_analyzed\\': \\'2018-06-29\\', \\'value3\\': None, \\'value1\\': \\'0.60\\', \\'analysisNote\\': \\'Date analyzed is actually the date we received the analysis, not sure of the date the sample was analyzed.\\', \\'lab\\': \\'OSU Central Analytical Laboratory\\', \\'analysis\\': \\'Soil Analysis Report\\', \\'unit3\\': None}\"}, {\"Unnamed: 0\": 236, \"entered\": \"2018-03-23 21:32:38.943800+00:00\", \"id\": 7314, \"observer_id\": 74, \"parentobs_id\": 7311.0, \"site_id\": 905, \"type_id\": 19, \"values\": \"{\\'ringDesc_1\\': \\'some vegetation\\', \\'ringDesc_3\\': \\'some vegetation, up out of riverbed\\', \\'description\\': \\'river bed, rocky soil, native plants around\\', \\'timings_5\\': None, \\'timings_4\\': None, \\'timings_2\\': \\'0:28, 1:20, 3:00\\', \\'timings_1\\': \\'1:06, 12:45\\', \\'drop30_2\\': None, \\'timings_3\\': \\'more than an hour\\', \\'date\\': \\'2018-02-09\\', \\'ringDesc_5\\': None, \\'ringDesc_2\\': \\'no vegetable, bare soil\\', \\'drop30_3\\': None, \\'drop30_1\\': None, \\'drop30_4\\': None, \\'drop30_5\\': None, \\'ringDesc_4\\': None}\"}, {\"Unnamed: 0\": 237, \"entered\": \"2018-03-23 21:25:01.295417+00:00\", \"id\": 7313, \"observer_id\": 74, \"parentobs_id\": 7311.0, \"site_id\": 905, \"type_id\": 30, \"values\": \"{\\'bare\\': \\'80\\', \\'location\\': \\'Plot center \\', \\'moss_lichen\\': None, \\'description\\': \\'dry not much plants and rocky soil \\', \\'ang_photo\\': \\'observations/IMG_5467_uJNC6cu.jpeg\\', \\'vert_photo\\': \\'observations/IMG_5466_uW0qY0G.jpeg\\', \\'litter_description\\': \\'dry and not much litter\\', \\'litter\\': \\'1\\', \\'grasses\\': \\'2\\', \\'date\\': \\'2018-02-09\\', \\'forbs\\': \\'4\\', \\'crust\\': None, \\'basal\\': None, \\'rock\\': None}\"}, {\"Unnamed: 0\": 238, \"entered\": \"2018-03-23 21:24:34.056959+00:00\", \"id\": 7312, \"observer_id\": 74, \"parentobs_id\": 7311.0, \"site_id\": 905, \"type_id\": 30, \"values\": \"{\\'bare\\': \\'80\\', \\'location\\': \\'Plot center \\', \\'moss_lichen\\': None, \\'description\\': \\'dry not much plants and rocky soil \\', \\'ang_photo\\': \\'observations/IMG_5467.jpeg\\', \\'vert_photo\\': \\'observations/IMG_5466.jpeg\\', \\'litter_description\\': \\'dry and not much litter\\', \\'litter\\': \\'1\\', \\'grasses\\': \\'2\\', \\'date\\': \\'2018-02-09\\', \\'forbs\\': \\'4\\', \\'crust\\': None, \\'basal\\': None, \\'rock\\': None}\"}, {\"Unnamed: 0\": 239, \"entered\": \"2018-03-23 21:16:53.616857+00:00\", \"id\": 7311, \"observer_id\": 74, \"parentobs_id\": NaN, \"site_id\": 905, \"type_id\": 40, \"values\": \"{\\'date\\': \\'2018-02-09\\', \\'site_description\\': \\'- Riverbed \\\\\\\\r\\\\\\\\n- Native Plants \\\\\\\\r\\\\\\\\n- Rocky soil\\\\\\\\r\\\\\\\\n\\', \\'observers\\': \\'Anel, Raquel, Sam, Dana, and Tabatha\\', \\'linephoto1\\': \\'observations/IMG_5465.jpeg\\', \\'linephoto2\\': \\'observations/IMG_5465_NfF1faj.jpeg\\', \\'general_observations\\': \\'- Oak Trees\\\\\\\\r\\\\\\\\n- Willow Trees\\\\\\\\r\\\\\\\\n- Evidence of coyotes\\'}\"}, {\"Unnamed: 0\": 240, \"entered\": \"2018-03-23 15:55:23.167189+00:00\", \"id\": 7310, \"observer_id\": 72, \"parentobs_id\": 7306.0, \"site_id\": 904, \"type_id\": 31, \"values\": \"{\\'date\\': \\'2018-02-07\\', \\'bottom_cm\\': \\'40\\', \\'samplers\\': \\'Nancy, Celeste, Daniela\\', \\'description\\': \\'large non-native grass population\\', \\'sampleID\\': \\'NDCR1c\\', \\'num_composited\\': \\'8\\', \\'top_cm\\': \\'25\\'}\"}, {\"Unnamed: 0\": 241, \"entered\": \"2018-03-23 15:53:48.694309+00:00\", \"id\": 7309, \"observer_id\": 72, \"parentobs_id\": 7306.0, \"site_id\": 904, \"type_id\": 31, \"values\": \"{\\'date\\': \\'2018-02-07\\', \\'bottom_cm\\': \\'25\\', \\'samplers\\': \\'Nancy, Celeste, Daniela\\', \\'description\\': \\'large non-native grass population\\', \\'sampleID\\': \\'NDCR1b\\', \\'num_composited\\': \\'8\\', \\'top_cm\\': \\'10\\'}\"}, {\"Unnamed: 0\": 242, \"entered\": \"2018-03-23 15:52:45.217535+00:00\", \"id\": 7308, \"observer_id\": 71, \"parentobs_id\": 7306.0, \"site_id\": 904, \"type_id\": 30, \"values\": \"{\\'bare\\': \\'1\\', \\'location\\': \\'At the center point.\\', \\'moss_lichen\\': None, \\'description\\': \\'Covered in grass\\', \\'ang_photo\\': \\'observations/IMG_5430.jpeg\\', \\'vert_photo\\': \\'observations/IMG_5429.jpeg\\', \\'litter_description\\': \\'Some decomposing grass\\', \\'litter\\': \\'30\\', \\'grasses\\': \\'3\\', \\'date\\': \\'2018-02-07\\', \\'forbs\\': \\'3\\', \\'crust\\': None, \\'basal\\': None, \\'rock\\': None}\"}, {\"Unnamed: 0\": 243, \"entered\": \"2018-03-23 15:50:57.177551+00:00\", \"id\": 7307, \"observer_id\": 72, \"parentobs_id\": 7306.0, \"site_id\": 904, \"type_id\": 31, \"values\": \"{\\'date\\': \\'2018-02-07\\', \\'bottom_cm\\': \\'10\\', \\'samplers\\': \\'Nancy, Celeste, Daniela\\', \\'description\\': \\'Large non-native grass population\\', \\'sampleID\\': \\'NDCR1a\\', \\'num_composited\\': \\'8\\', \\'top_cm\\': \\'0\\'}\"}, {\"Unnamed: 0\": 244, \"entered\": \"2018-03-23 15:44:23.619924+00:00\", \"id\": 7306, \"observer_id\": 70, \"parentobs_id\": NaN, \"site_id\": 904, \"type_id\": 40, \"values\": \"{\\'date\\': \\'2018-02-07\\', \\'site_description\\': \\'Fair presentation of the campus\\', \\'observers\\': \\'Nancy, Celeste, Dana, Sam, Rogelio, Daniella\\', \\'linephoto1\\': \\'observations/IMG_5428.jpeg\\', \\'linephoto2\\': \\'observations/IMG_5428_C0Re0nB.jpeg\\', \\'general_observations\\': \\'Couple of grass species as long as broad leafed plants\\'}\"}, {\"Unnamed: 0\": 245, \"entered\": \"2018-03-15 22:23:25.755233+00:00\", \"id\": 7305, \"observer_id\": 68, \"parentobs_id\": 7296.0, \"site_id\": 903, \"type_id\": 31, \"values\": \"{\\'date\\': \\'2018-02-08\\', \\'bottom_cm\\': \\'40\\', \\'samplers\\': \\'Daniel, Austin, Dana, Sam\\', \\'description\\': \\'compactive, alot of roots, grassy\\', \\'sampleID\\': \\'ESA 4C\\', \\'num_composited\\': \\'8\\', \\'top_cm\\': \\'25\\'}\"}, {\"Unnamed: 0\": 246, \"entered\": \"2018-03-15 22:23:23.821459+00:00\", \"id\": 7304, \"observer_id\": 68, \"parentobs_id\": 7296.0, \"site_id\": 903, \"type_id\": 31, \"values\": \"{\\'date\\': \\'2018-02-08\\', \\'bottom_cm\\': \\'40\\', \\'samplers\\': \\'Daniel, Austin, Dana, Sam\\', \\'description\\': \\'compactive, alot of roots, grassy\\', \\'sampleID\\': \\'ESA 4C\\', \\'num_composited\\': \\'8\\', \\'top_cm\\': \\'25\\'}\"}, {\"Unnamed: 0\": 247, \"entered\": \"2018-03-15 22:22:41.693641+00:00\", \"id\": 7303, \"observer_id\": 69, \"parentobs_id\": 7296.0, \"site_id\": 903, \"type_id\": 30, \"values\": \"{\\'bare\\': \\'1\\', \\'location\\': \\'5 meters past the center line\\', \\'moss_lichen\\': None, \\'description\\': \\'It is mostly non-native plants and grasses and is mowed weekly.\\', \\'ang_photo\\': \\'observations/IMG_5448.jpeg\\', \\'vert_photo\\': \\'observations/IMG_5446.jpeg\\', \\'litter_description\\': \\'>.5cm of decaying material\\', \\'litter\\': \\'1\\', \\'grasses\\': \\'2\\', \\'date\\': \\'2018-02-08\\', \\'forbs\\': \\'5\\', \\'crust\\': \\'>.5cm of decaying material\\', \\'basal\\': None, \\'rock\\': None}\"}, {\"Unnamed: 0\": 248, \"entered\": \"2018-03-15 22:22:18.789261+00:00\", \"id\": 7302, \"observer_id\": 68, \"parentobs_id\": 7296.0, \"site_id\": 903, \"type_id\": 31, \"values\": \"{\\'date\\': \\'2018-02-08\\', \\'bottom_cm\\': \\'25\\', \\'samplers\\': \\'Daniel Baca, Austin Habich, Dana, Sam\\', \\'description\\': \\'Compactive, grassy, alot of roots\\', \\'sampleID\\': \\'ESA 4B\\', \\'num_composited\\': \\'8\\', \\'top_cm\\': \\'10\\'}\"}, {\"Unnamed: 0\": 249, \"entered\": \"2018-03-15 22:22:14.886036+00:00\", \"id\": 7301, \"observer_id\": 68, \"parentobs_id\": 7296.0, \"site_id\": 903, \"type_id\": 31, \"values\": \"{\\'date\\': \\'2018-02-08\\', \\'bottom_cm\\': \\'25\\', \\'samplers\\': \\'Daniel Baca, Austin Habich, Dana, Sam\\', \\'description\\': \\'Compactive, grassy, alot of roots\\', \\'sampleID\\': \\'ESA 4B\\', \\'num_composited\\': \\'8\\', \\'top_cm\\': \\'10\\'}\"}, {\"Unnamed: 0\": 250, \"entered\": \"2018-03-15 22:22:14.486223+00:00\", \"id\": 7300, \"observer_id\": 68, \"parentobs_id\": 7296.0, \"site_id\": 903, \"type_id\": 31, \"values\": \"{\\'date\\': \\'2018-02-08\\', \\'bottom_cm\\': \\'25\\', \\'samplers\\': \\'Daniel Baca, Austin Habich, Dana, Sam\\', \\'description\\': \\'Compactive, grassy, alot of roots\\', \\'sampleID\\': \\'ESA 4B\\', \\'num_composited\\': \\'8\\', \\'top_cm\\': \\'10\\'}\"}, {\"Unnamed: 0\": 251, \"entered\": \"2018-03-15 22:20:27.464955+00:00\", \"id\": 7299, \"observer_id\": 68, \"parentobs_id\": 7296.0, \"site_id\": 903, \"type_id\": 31, \"values\": \"{\\'date\\': \\'2018-02-08\\', \\'bottom_cm\\': \\'10\\', \\'samplers\\': \\'Austin Habich, Daniel baca, Sam, Dana\\', \\'description\\': \\'pretty compactive, roots, covered with grass\\', \\'sampleID\\': \\'ESA 4A\\', \\'num_composited\\': \\'8\\', \\'top_cm\\': \\'0\\'}\"}, {\"Unnamed: 0\": 252, \"entered\": \"2018-03-15 22:17:05.593917+00:00\", \"id\": 7298, \"observer_id\": 68, \"parentobs_id\": 7296.0, \"site_id\": 903, \"type_id\": 19, \"values\": \"{\\'ringDesc_1\\': \\'living green vegetation\\', \\'ringDesc_3\\': \\'All need vegetation\\', \\'description\\': \\'Managed by the schools maintenance crew \\', \\'timings_5\\': None, \\'timings_4\\': None, \\'timings_2\\': \\'0-1:55, 0-14:05, 0-19:42\\', \\'timings_1\\': \\'0-16:44\\', \\'drop30_2\\': None, \\'timings_3\\': \\'0-10:33, 0-28:30\\', \\'date\\': \\'2018-02-08\\', \\'ringDesc_5\\': None, \\'ringDesc_2\\': \\'half living green grass, rest dead or dying\\', \\'drop30_3\\': None, \\'drop30_1\\': None, \\'drop30_4\\': None, \\'drop30_5\\': None, \\'ringDesc_4\\': None}\"}, {\"Unnamed: 0\": 253, \"entered\": \"2018-03-15 22:17:04.208382+00:00\", \"id\": 7297, \"observer_id\": 68, \"parentobs_id\": 7296.0, \"site_id\": 903, \"type_id\": 19, \"values\": \"{\\'ringDesc_1\\': \\'living green vegetation\\', \\'ringDesc_3\\': \\'All need vegetation\\', \\'description\\': \\'Managed by the schools maintenance crew \\', \\'timings_5\\': None, \\'timings_4\\': None, \\'timings_2\\': \\'0-1:55, 0-14:05, 0-19:42\\', \\'timings_1\\': \\'0-16:44\\', \\'drop30_2\\': None, \\'timings_3\\': \\'0-10:33, 0-28:30\\', \\'date\\': \\'2018-02-08\\', \\'ringDesc_5\\': None, \\'ringDesc_2\\': \\'half living green grass, rest dead or dying\\', \\'drop30_3\\': None, \\'drop30_1\\': None, \\'drop30_4\\': None, \\'drop30_5\\': None, \\'ringDesc_4\\': None}\"}, {\"Unnamed: 0\": 254, \"entered\": \"2018-03-15 22:09:37.963334+00:00\", \"id\": 7296, \"observer_id\": 68, \"parentobs_id\": NaN, \"site_id\": 903, \"type_id\": 40, \"values\": \"{\\'date\\': \\'2018-02-08\\', \\'miscPhoto\\': \\'observations/IMG_5451.jpeg\\', \\'site_description\\': \\'Behind the softball field and flat grassy field \\', \\'observers\\': \\'Daniel Baca, Austin Habich, Dana, Sam\\', \\'linephoto1\\': \\'observations/IMG_5444.jpeg\\', \\'linephoto2\\': \\'observations/IMG_5444_GNSL32q.jpeg\\', \\'general_observations\\': \\'Non native grass the maintenance group cuts lawns every once a while \\'}\"}, {\"Unnamed: 0\": 255, \"entered\": \"2018-03-14 16:39:44.918636+00:00\", \"id\": 7295, \"observer_id\": 67, \"parentobs_id\": 7291.0, \"site_id\": 902, \"type_id\": 28, \"values\": \"{\\'date\\': \\'2018-03-14\\', \\'living_roots\\': \\'When we were digging, our soil density test showed that there was a lot of living roots.\\', \\'cover\\': \\'The soil stays covered most of the year because of a dense bush-like shrub that is all over the ground.\\', \\'diversity\\': \\'There is not a lot of diversity in plants - there was a shrub and grass which were the only plants that grow there \\', \\'soil_health_image\\': \\'observations/IMG-4382.JPG\\', \\'minimize_tillage\\': \\'Yes there was tillage in the past but now there is not tillage occurring anytime soon.\\', \\'livestock\\': \\'There is no livestock.\\', \\'other\\': \\'The photo shows the plot of land which is only covered by shrubs and grass.\\'}\"}, {\"Unnamed: 0\": 256, \"entered\": \"2018-03-14 16:38:17.848212+00:00\", \"id\": 7294, \"observer_id\": 66, \"parentobs_id\": 7291.0, \"site_id\": 902, \"type_id\": 31, \"values\": \"{\\'date\\': \\'2018-02-15\\', \\'bottom_cm\\': \\'10\\', \\'samplers\\': \\'Marina Martinez Ferreira, Justin Clark Hunziger, Kaylee Murphy, Zackery Pena, Fernando Ceja, Rafael Zaragosa, Sam Weiser, Bud Darwin, Dana Everhart\\', \\'description\\': \\'extracted samples from grid at these points: 10, 4, 7,1, 16, 22, 19, 25\\\\\\\\r\\\\\\\\n\\', \\'sampleID\\': \\'MOHS1A\\', \\'num_composited\\': \\'8\\', \\'top_cm\\': \\'0\\'}\"}, {\"Unnamed: 0\": 257, \"entered\": \"2018-03-14 16:25:11.615589+00:00\", \"id\": 7293, \"observer_id\": 65, \"parentobs_id\": 7291.0, \"site_id\": 902, \"type_id\": 19, \"values\": \"{\\'ringDesc_1\\': \\\\\"Lots of vines. We weren\\'t able to stay the entire time, we had to leave after 2 hours.\\\\\", \\'ringDesc_3\\': \\\\\"Little bit of green, lot of bare ground. We weren\\'t able to stay the entire time, we had to leave after 2 hours.\\\\\", \\'description\\': \\'The soil was heavily compacted because of the construction that went on while building the school. The soil around this area usually has high amounts of clay, which can also make it harder for the water to infiltrate. This area also had a lot of ground cover.\\', \\'timings_5\\': None, \\'timings_4\\': None, \\'timings_2\\': \\'once\\', \\'timings_1\\': \\'once\\', \\'drop30_2\\': \\'120\\', \\'timings_3\\': \\'once\\', \\'date\\': \\'2018-02-15\\', \\'ringDesc_5\\': None, \\'ringDesc_2\\': \\\\\"Lots of grass inside. We weren\\'t able to stay the entire time, we had to leave after 2 hours.\\\\\", \\'drop30_3\\': \\'120\\', \\'drop30_1\\': \\'120\\', \\'drop30_4\\': None, \\'drop30_5\\': None, \\'ringDesc_4\\': None}\"}, {\"Unnamed: 0\": 258, \"entered\": \"2018-03-14 16:11:54.017323+00:00\", \"id\": 7292, \"observer_id\": 65, \"parentobs_id\": 7291.0, \"site_id\": 902, \"type_id\": 30, \"values\": \"{\\'bare\\': \\'1\\', \\'location\\': \\'At plot center, south side of transect line.\\', \\'moss_lichen\\': None, \\'description\\': \\'Covering almost the entire plot, there was a low but growing shrub/vine. A month after observations, an abundance of forbs growing throughout the plot. \\', \\'ang_photo\\': \\'observations/angle.jpg\\', \\'vert_photo\\': \\'observations/topdown.jpg\\', \\'litter_description\\': \\'less than 1cm of decaying plant material\\', \\'litter\\': \\'50\\', \\'grasses\\': \\'1\\', \\'date\\': \\'2018-02-15\\', \\'forbs\\': \\'3\\', \\'crust\\': None, \\'basal\\': None, \\'rock\\': None}\"}, {\"Unnamed: 0\": 259, \"entered\": \"2018-03-14 15:53:06.670973+00:00\", \"id\": 7291, \"observer_id\": 65, \"parentobs_id\": NaN, \"site_id\": 902, \"type_id\": 40, \"values\": \"{\\'date\\': \\'2018-02-15\\', \\'miscPhoto\\': \\'observations/IMG_5541.jpeg\\', \\'site_description\\': \\'We chose this site because, it was an easy location to access, it has interesting ground cover, it is pretty flat, not heavily use. It is lightly managed, there is a sewage drain right there so that is where the water goes. \\', \\'observers\\': \\'Marina Martinez Ferreira, Justin Clark Hunziger, Kaylee Murphy, Zackery Pena, Fernando Ceja, Rafael Zaragosa, Sam Weiser, Bud Darwin, Dana Everhart\\', \\'linephoto1\\': \\'observations/IMG_5538.jpeg\\', \\'linephoto2\\': \\'observations/IMG_5538_8puV3Mh.jpeg\\', \\'general_observations\\': \\'There is a large shrub covering most of the plot and growing low to the ground. Our guess is Alkali Heath and there is also grass and a few weeds.\\'}\"}]'"
      ]
     },
     "execution_count": 4,
     "metadata": {},
     "output_type": "execute_result"
    }
   ],
   "source": [
    "d = [ \n",
    "    dict([\n",
    "        (colname, row[i]) \n",
    "        for i,colname in enumerate(df.columns)\n",
    "    ])\n",
    "    for row in df.values\n",
    "]\n",
    "a= json.dumps(d)\n",
    "a"
   ]
  },
  {
   "cell_type": "code",
   "execution_count": null,
   "metadata": {
    "collapsed": true
   },
   "outputs": [],
   "source": []
  }
 ],
 "metadata": {
  "kernelspec": {
   "display_name": "Python 3",
   "language": "python",
   "name": "python3"
  },
  "language_info": {
   "codemirror_mode": {
    "name": "ipython",
    "version": 3
   },
   "file_extension": ".py",
   "mimetype": "text/x-python",
   "name": "python",
   "nbconvert_exporter": "python",
   "pygments_lexer": "ipython3",
   "version": "3.6.0"
  }
 },
 "nbformat": 4,
 "nbformat_minor": 2
}
