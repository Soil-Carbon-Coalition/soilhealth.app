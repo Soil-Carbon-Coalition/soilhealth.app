{
 "cells": [
  {
   "cell_type": "markdown",
   "metadata": {},
   "source": [
    "# Retrieve data from EPA water quality database\n",
    "\n",
    "Can do some preliminary exploration here:\n",
    "\n",
    "https://www.waterqualitydata.us/portal\n",
    "\n",
    "and the documentation on the API\n",
    "\n",
    "https://www.waterqualitydata.us/webservices_documentation/\n"
   ]
  },
  {
   "cell_type": "code",
   "execution_count": 1,
   "metadata": {},
   "outputs": [],
   "source": [
    "import pandas as pd, numpy as np, folium\n",
    "import matplotlib.pyplot as plt\n",
    "plt.rcParams['figure.figsize'] = [6, 4] #gives compact size to plots\n",
    "%matplotlib inline"
   ]
  },
  {
   "cell_type": "code",
   "execution_count": null,
   "metadata": {},
   "outputs": [],
   "source": [
    "#to retrieve data for one site\n",
    "site_id = '21OHIO_WQX-S01K09'\n",
    "# url = 'https://www.waterqualitydata.us/portal/#siteid='+site_id+'&providers=STORET&mimeType=csv'"
   ]
  },
  {
   "cell_type": "code",
   "execution_count": 16,
   "metadata": {},
   "outputs": [
    {
     "data": {
      "text/plain": [
       "'https://www.waterqualitydata.us/data/Result/search?characteristicName=Phosphorus&bBox=-73.231829,44.851176,-72.960520,45.008659&startDateLo=10-01-2006&mimeType=csv'"
      ]
     },
     "execution_count": 16,
     "metadata": {},
     "output_type": "execute_result"
    }
   ],
   "source": [
    "characteristic = 'Phosphorus' #needs to be capitalized\n",
    "\n",
    "maxlat = '45.008659'\n",
    "minlat = '44.851176'\n",
    "maxlon='-73.231829'\n",
    "minlon='-72.960520'\n",
    "\n",
    "bbox = maxlon+','+minlat+','+minlon+','+maxlat\n",
    "url = 'https://www.waterqualitydata.us/data/Result/search?characteristicName='+characteristic+'&bBox='+bbox+'&startDateLo=10-01-2006&mimeType=csv'\n",
    "url"
   ]
  },
  {
   "cell_type": "code",
   "execution_count": null,
   "metadata": {},
   "outputs": [],
   "source": [
    "url = 'https://www.waterqualitydata.us/data/Result/search?characteristicName=Phosphorus&bBox=-73.2,44.8,-72.9,45&startDateLo=10-01-2006&mimeType=csv'\n",
    "df = pd.read_csv(url)"
   ]
  },
  {
   "cell_type": "code",
   "execution_count": 15,
   "metadata": {},
   "outputs": [
    {
     "data": {
      "text/plain": [
       "OrganizationIdentifier                                object\n",
       "OrganizationFormalName                                object\n",
       "ActivityIdentifier                                    object\n",
       "ActivityTypeCode                                      object\n",
       "ActivityMediaName                                     object\n",
       "ActivityMediaSubdivisionName                         float64\n",
       "ActivityStartDate                                     object\n",
       "ActivityStartTime/Time                                object\n",
       "ActivityStartTime/TimeZoneCode                        object\n",
       "ActivityEndDate                                      float64\n",
       "ActivityEndTime/Time                                 float64\n",
       "ActivityEndTime/TimeZoneCode                         float64\n",
       "ActivityDepthHeightMeasure/MeasureValue              float64\n",
       "ActivityDepthHeightMeasure/MeasureUnitCode            object\n",
       "ActivityDepthAltitudeReferencePointText              float64\n",
       "ActivityTopDepthHeightMeasure/MeasureValue           float64\n",
       "ActivityTopDepthHeightMeasure/MeasureUnitCode         object\n",
       "ActivityBottomDepthHeightMeasure/MeasureValue        float64\n",
       "ActivityBottomDepthHeightMeasure/MeasureUnitCode      object\n",
       "ProjectIdentifier                                     object\n",
       "ActivityConductingOrganizationText                   float64\n",
       "MonitoringLocationIdentifier                          object\n",
       "ActivityCommentText                                  float64\n",
       "SampleAquifer                                        float64\n",
       "HydrologicCondition                                  float64\n",
       "HydrologicEvent                                      float64\n",
       "SampleCollectionMethod/MethodIdentifier               object\n",
       "SampleCollectionMethod/MethodIdentifierContext        object\n",
       "SampleCollectionMethod/MethodName                     object\n",
       "SampleCollectionEquipmentName                         object\n",
       "                                                      ...   \n",
       "ResultMeasureValue                                   float64\n",
       "ResultMeasure/MeasureUnitCode                         object\n",
       "MeasureQualifierCode                                  object\n",
       "ResultStatusIdentifier                                object\n",
       "StatisticalBaseCode                                  float64\n",
       "ResultValueTypeName                                   object\n",
       "ResultWeightBasisText                                float64\n",
       "ResultTimeBasisText                                  float64\n",
       "ResultTemperatureBasisText                           float64\n",
       "ResultParticleSizeBasisText                          float64\n",
       "PrecisionValue                                       float64\n",
       "ResultCommentText                                    float64\n",
       "USGSPCode                                            float64\n",
       "ResultDepthHeightMeasure/MeasureValue                float64\n",
       "ResultDepthHeightMeasure/MeasureUnitCode             float64\n",
       "ResultDepthAltitudeReferencePointText                float64\n",
       "SubjectTaxonomicName                                 float64\n",
       "SampleTissueAnatomyName                              float64\n",
       "ResultAnalyticalMethod/MethodIdentifier               object\n",
       "ResultAnalyticalMethod/MethodIdentifierContext        object\n",
       "ResultAnalyticalMethod/MethodName                     object\n",
       "MethodDescriptionText                                 object\n",
       "LaboratoryName                                        object\n",
       "AnalysisStartDate                                    float64\n",
       "ResultLaboratoryCommentText                           object\n",
       "DetectionQuantitationLimitTypeName                   float64\n",
       "DetectionQuantitationLimitMeasure/MeasureValue       float64\n",
       "DetectionQuantitationLimitMeasure/MeasureUnitCode    float64\n",
       "PreparationStartDate                                 float64\n",
       "ProviderName                                          object\n",
       "Length: 63, dtype: object"
      ]
     },
     "execution_count": 15,
     "metadata": {},
     "output_type": "execute_result"
    }
   ],
   "source": [
    "df.dtypes"
   ]
  }
 ],
 "metadata": {
  "kernelspec": {
   "display_name": "Python 3",
   "language": "python",
   "name": "python3"
  },
  "language_info": {
   "codemirror_mode": {
    "name": "ipython",
    "version": 3
   },
   "file_extension": ".py",
   "mimetype": "text/x-python",
   "name": "python",
   "nbconvert_exporter": "python",
   "pygments_lexer": "ipython3",
   "version": "3.7.1"
  }
 },
 "nbformat": 4,
 "nbformat_minor": 2
}
