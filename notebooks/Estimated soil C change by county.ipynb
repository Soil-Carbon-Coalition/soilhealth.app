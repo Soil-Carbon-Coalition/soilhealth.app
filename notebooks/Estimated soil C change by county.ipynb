{
 "cells": [
  {
   "cell_type": "code",
   "execution_count": 1,
   "metadata": {
    "collapsed": true
   },
   "outputs": [],
   "source": [
    "import pandas as pd, numpy as np"
   ]
  },
  {
   "cell_type": "markdown",
   "metadata": {},
   "source": [
    "## get FIPS codes with county names"
   ]
  },
  {
   "cell_type": "code",
   "execution_count": 22,
   "metadata": {
    "collapsed": false
   },
   "outputs": [],
   "source": [
    "df = pd.read_csv('https://www2.census.gov/geo/docs/reference/codes/files/national_county.txt', header=None)\n",
    "#convert to strings, pad with zeros, 2 digits for state, 3 for county\n",
    "df[1] = df[1].map(lambda x: str(x))\n",
    "df[2] = df[2].map(lambda x: str(x)).apply(lambda x: x.zfill(3))\n",
    "\n",
    "#add FIPS or id column and test\n",
    "df['id'] = df[1] + df[2]\n",
    "df['name'] = df[3].str.replace(' County','')\n",
    "fips = df[['id','name']]"
   ]
  },
  {
   "cell_type": "markdown",
   "metadata": {},
   "source": [
    "## Load data, sum over years, and merge"
   ]
  },
  {
   "cell_type": "code",
   "execution_count": 48,
   "metadata": {
    "collapsed": false
   },
   "outputs": [
    {
     "data": {
      "text/plain": [
       "count    3109.000000\n",
       "mean     -100.044105\n",
       "std       156.515993\n",
       "min     -1914.829730\n",
       "25%      -134.653341\n",
       "50%       -36.333978\n",
       "75%        -5.814587\n",
       "max         0.431752\n",
       "Name: change, dtype: float64"
      ]
     },
     "execution_count": 48,
     "metadata": {},
     "output_type": "execute_result"
    }
   ],
   "source": [
    "df = pd.read_csv('http://cdiac.ess-dive.lbl.gov/carbonmanagement/soilcarbonchange/1990_2008soilcarbonchange_US_v2.csv')\n",
    "col_list = list(df)\n",
    "col_list.remove('FIPS') #because it's an int64 type\n",
    "df['change'] = df[col_list].sum(axis=1)\n",
    "df['change'] = df['change']/1000 #thousand tons\n",
    "df['change'].describe()\n"
   ]
  },
  {
   "cell_type": "code",
   "execution_count": 50,
   "metadata": {
    "collapsed": false
   },
   "outputs": [],
   "source": [
    "df['id'] = df['FIPS'].apply(str)\n",
    "change = pd.merge(fips, df, on='id', how='inner')\n",
    "change = change[['id','name','change']]\n",
    "#id or FIPS code needs to be 5-digit string to work with d3 topojson\n",
    "change['id']= change['id'].map(lambda x: str(x)).apply(lambda x: x.zfill(5))\n",
    "change['change'] = change['change'].round(2)\n",
    "change.to_csv('estimated_C_change_by_county_1990-2008.tsv', sep='\\t',index=False)"
   ]
  }
 ],
 "metadata": {
  "kernelspec": {
   "display_name": "Python 3",
   "language": "python",
   "name": "python3"
  },
  "language_info": {
   "codemirror_mode": {
    "name": "ipython",
    "version": 3
   },
   "file_extension": ".py",
   "mimetype": "text/x-python",
   "name": "python",
   "nbconvert_exporter": "python",
   "pygments_lexer": "ipython3",
   "version": "3.6.0"
  }
 },
 "nbformat": 4,
 "nbformat_minor": 2
}
